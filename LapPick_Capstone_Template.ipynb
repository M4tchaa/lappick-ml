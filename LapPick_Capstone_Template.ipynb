{
 "cells": [
  {
   "cell_type": "markdown",
   "id": "89b5bf88",
   "metadata": {},
   "source": [
    "\n",
    "# LapPick: Sistem Rekomendasi Laptop Menggunakan NLP\n",
    "### Capstone Project Laskar AI\n",
    "\n",
    "**Tanggal Pembuatan:** 20 May 2025\n",
    "\n",
    "**Tim:** LAI25-SM035  \n",
    "**Anggota:**  \n",
    "- A533YBM071 – ARLIYANDI – STIKOM EL RAHMA  \n",
    "- A006YBF160 – FATHUR RAHMAN AL FARIZY – Universitas Brawijaya  \n",
    "- A245YBF227 – IRFAN FAJAR MUTTAQIN – Universitas Kristen Satya Wacana Salatiga  \n",
    "- A011XBF457 – SHOFURA TSABITAH RAHMAH – Universitas Padjadjaran  \n",
    "\n",
    "---\n",
    "\n",
    "## Deskripsi Proyek\n",
    "LapPick adalah sistem rekomendasi laptop berbasis Natural Language Processing (NLP) untuk membantu calon pembeli memilih laptop berdasarkan kebutuhan (gaming, desain grafis, perkantoran, dll.) dan anggaran.\n"
   ]
  },
  {
   "cell_type": "code",
   "execution_count": null,
   "id": "ac1effa1",
   "metadata": {},
   "outputs": [
    {
     "name": "stderr",
     "output_type": "stream",
     "text": [
      "[nltk_data] Downloading package punkt to\n",
      "[nltk_data]     C:\\Users\\Development\\AppData\\Roaming\\nltk_data...\n",
      "[nltk_data]   Package punkt is already up-to-date!\n"
     ]
    }
   ],
   "source": [
    "# Data Processing and Numerical Operations\n",
    "import pandas as pd\n",
    "import numpy as np\n",
    "import re\n",
    "\n",
    "# Natural Language Processing (NLP)\n",
    "from Sastrawi.Stemmer.StemmerFactory import StemmerFactory\n",
    "from sklearn.feature_extraction.text import TfidfVectorizer\n",
    "from sklearn.preprocessing import LabelEncoder\n",
    "import nltk\n",
    "nltk.download('punkt')\n",
    "\n",
    "# Machine Learning and Model Evaluation\n",
    "from sklearn.model_selection import train_test_split\n",
    "\n",
    "# Web Scraping (Jika Diperlukan)\n",
    "import requests\n",
    "from bs4 import BeautifulSoup\n",
    "from selenium import webdriver\n",
    "\n",
    "# Visualization (Jika Diperlukan)\n",
    "import matplotlib.pyplot as plt\n",
    "\n",
    "# Optional: TensorFlow (Jika ingin model rekomendasi kompleks)\n",
    "import tensorflow as tf\n",
    "\n",
    "# General Settings\n",
    "import joblib\n",
    "import warnings\n",
    "warnings.filterwarnings('ignore')"
   ]
  },
  {
   "cell_type": "markdown",
   "id": "b466d129",
   "metadata": {},
   "source": [
    "\n",
    "## 1. Pengumpulan Data\n",
    "\n",
    "### Tujuan\n",
    "Mengumpulkan data spesifikasi laptop dari berbagai sumber (e-commerce, dataset publik).\n",
    "\n",
    "### Langkah\n",
    "1. Melakukan web scraping dari situs e-commerce.\n",
    "2. Mengambil dataset dari Kaggle (jika ada).\n",
    "\n",
    "### Implementasi\n"
   ]
  },
  {
   "cell_type": "code",
   "execution_count": 24,
   "id": "fdbc9599",
   "metadata": {},
   "outputs": [],
   "source": [
    "\n",
    "# Contoh penggunaan BeautifulSoup untuk scraping data laptop dari e-commerce\n",
    "df_a = pd.read_csv('datasets/laptop_data.csv')\n",
    "df_b = pd.read_csv('datasets/LaptopPricePrediction.csv')\n",
    "df_c = pd.read_csv('datasets/laptops.csv')\n"
   ]
  },
  {
   "cell_type": "code",
   "execution_count": 25,
   "id": "16e850e5",
   "metadata": {},
   "outputs": [
    {
     "name": "stdout",
     "output_type": "stream",
     "text": [
      "<class 'pandas.core.frame.DataFrame'>\n",
      "RangeIndex: 1303 entries, 0 to 1302\n",
      "Data columns (total 12 columns):\n",
      " #   Column            Non-Null Count  Dtype  \n",
      "---  ------            --------------  -----  \n",
      " 0   Unnamed: 0        1303 non-null   int64  \n",
      " 1   Company           1303 non-null   object \n",
      " 2   TypeName          1303 non-null   object \n",
      " 3   Inches            1303 non-null   float64\n",
      " 4   ScreenResolution  1303 non-null   object \n",
      " 5   Cpu               1303 non-null   object \n",
      " 6   Ram               1303 non-null   object \n",
      " 7   Memory            1303 non-null   object \n",
      " 8   Gpu               1303 non-null   object \n",
      " 9   OpSys             1303 non-null   object \n",
      " 10  Weight            1303 non-null   object \n",
      " 11  Price             1303 non-null   float64\n",
      "dtypes: float64(2), int64(1), object(9)\n",
      "memory usage: 122.3+ KB\n"
     ]
    }
   ],
   "source": [
    "df_a.head()\n",
    "df_a.info()"
   ]
  },
  {
   "cell_type": "code",
   "execution_count": 26,
   "id": "056dc71d",
   "metadata": {},
   "outputs": [
    {
     "name": "stdout",
     "output_type": "stream",
     "text": [
      "<class 'pandas.core.frame.DataFrame'>\n",
      "RangeIndex: 550 entries, 0 to 549\n",
      "Data columns (total 10 columns):\n",
      " #   Column            Non-Null Count  Dtype  \n",
      "---  ------            --------------  -----  \n",
      " 0   Unnamed: 0        550 non-null    int64  \n",
      " 1   Name              550 non-null    object \n",
      " 2   Processor         550 non-null    object \n",
      " 3   RAM               550 non-null    object \n",
      " 4   Operating System  550 non-null    object \n",
      " 5   Storage           550 non-null    object \n",
      " 6   Display           550 non-null    object \n",
      " 7   Warranty          550 non-null    object \n",
      " 8   Price             550 non-null    object \n",
      " 9   rating            550 non-null    float64\n",
      "dtypes: float64(1), int64(1), object(8)\n",
      "memory usage: 43.1+ KB\n"
     ]
    }
   ],
   "source": [
    "df_b.head()\n",
    "df_b.info()"
   ]
  },
  {
   "cell_type": "code",
   "execution_count": 27,
   "id": "9023b7aa",
   "metadata": {},
   "outputs": [
    {
     "name": "stdout",
     "output_type": "stream",
     "text": [
      "<class 'pandas.core.frame.DataFrame'>\n",
      "RangeIndex: 2160 entries, 0 to 2159\n",
      "Data columns (total 12 columns):\n",
      " #   Column        Non-Null Count  Dtype  \n",
      "---  ------        --------------  -----  \n",
      " 0   Laptop        2160 non-null   object \n",
      " 1   Status        2160 non-null   object \n",
      " 2   Brand         2160 non-null   object \n",
      " 3   Model         2160 non-null   object \n",
      " 4   CPU           2160 non-null   object \n",
      " 5   RAM           2160 non-null   int64  \n",
      " 6   Storage       2160 non-null   int64  \n",
      " 7   Storage type  2118 non-null   object \n",
      " 8   GPU           789 non-null    object \n",
      " 9   Screen        2156 non-null   float64\n",
      " 10  Touch         2160 non-null   object \n",
      " 11  Final Price   2160 non-null   float64\n",
      "dtypes: float64(2), int64(2), object(8)\n",
      "memory usage: 202.6+ KB\n"
     ]
    }
   ],
   "source": [
    "df_c.head()\n",
    "df_c.info()"
   ]
  },
  {
   "cell_type": "markdown",
   "id": "1bceeb68",
   "metadata": {},
   "source": [
    "\n",
    "## 2. Pembersihan dan Praproses Data\n",
    "\n",
    "### Tujuan\n",
    "Membersihkan data agar konsisten dan siap diproses oleh model.\n",
    "\n",
    "### Langkah\n",
    "1. Menghilangkan duplikasi.\n",
    "2. Mengatasi nilai kosong.\n",
    "3. Normalisasi teks (misalnya, huruf kecil).\n",
    "\n",
    "### Implementasi\n"
   ]
  },
  {
   "cell_type": "code",
   "execution_count": 28,
   "id": "fb3e6314",
   "metadata": {},
   "outputs": [
    {
     "name": "stdout",
     "output_type": "stream",
     "text": [
      "  Status   Brand       Model            CPU  RAM  Storage Storage type  \\\n",
      "0    New    Asus  ExpertBook  Intel Core i5    8      512          SSD   \n",
      "1    New  Alurin          Go  Intel Celeron    8      256          SSD   \n",
      "2    New    Asus  ExpertBook  Intel Core i3    8      256          SSD   \n",
      "3    New     MSI      Katana  Intel Core i7   16     1000          SSD   \n",
      "4    New      HP         15S  Intel Core i5   16      512          SSD   \n",
      "\n",
      "          GPU  Screen Touch  Final Price  \n",
      "0  Integrated    15.6    No      1009.00  \n",
      "1  Integrated    15.6    No       299.00  \n",
      "2  Integrated    15.6    No       789.00  \n",
      "3    RTX 3050    15.6    No      1199.00  \n",
      "4  Integrated    15.6    No       669.01  \n",
      "<class 'pandas.core.frame.DataFrame'>\n",
      "RangeIndex: 2160 entries, 0 to 2159\n",
      "Data columns (total 11 columns):\n",
      " #   Column        Non-Null Count  Dtype  \n",
      "---  ------        --------------  -----  \n",
      " 0   Status        2160 non-null   object \n",
      " 1   Brand         2160 non-null   object \n",
      " 2   Model         2160 non-null   object \n",
      " 3   CPU           2160 non-null   object \n",
      " 4   RAM           2160 non-null   int64  \n",
      " 5   Storage       2160 non-null   int64  \n",
      " 6   Storage type  2160 non-null   object \n",
      " 7   GPU           2160 non-null   object \n",
      " 8   Screen        2160 non-null   float64\n",
      " 9   Touch         2160 non-null   object \n",
      " 10  Final Price   2160 non-null   float64\n",
      "dtypes: float64(2), int64(2), object(7)\n",
      "memory usage: 185.8+ KB\n",
      "None\n"
     ]
    }
   ],
   "source": [
    "\n",
    "# Contoh membersihkan data\n",
    "\n",
    "df = pd.read_csv('datasets/laptops.csv')\n",
    "\n",
    "df.drop(columns=['Laptop'], inplace=True)  # Nama deskriptif yang bisa digantikan oleh spesifikasi\n",
    "\n",
    "# Tangani missing value\n",
    "df['GPU'].fillna('Integrated', inplace=True)\n",
    "df['Storage type'].fillna('Unknown', inplace=True)\n",
    "df['Screen'].fillna(df['Screen'].median(), inplace=True)  # Imputasi numerik\n",
    "df.dropna(inplace=True)  # Jika ada sisa null, drop saja\n",
    "\n",
    "print(df.head())\n",
    "print(df.info())\n"
   ]
  },
  {
   "cell_type": "code",
   "execution_count": null,
   "id": "83539936",
   "metadata": {},
   "outputs": [
    {
     "data": {
      "text/html": [
       "<div>\n",
       "<style scoped>\n",
       "    .dataframe tbody tr th:only-of-type {\n",
       "        vertical-align: middle;\n",
       "    }\n",
       "\n",
       "    .dataframe tbody tr th {\n",
       "        vertical-align: top;\n",
       "    }\n",
       "\n",
       "    .dataframe thead th {\n",
       "        text-align: right;\n",
       "    }\n",
       "</style>\n",
       "<table border=\"1\" class=\"dataframe\">\n",
       "  <thead>\n",
       "    <tr style=\"text-align: right;\">\n",
       "      <th></th>\n",
       "      <th>Status</th>\n",
       "      <th>Brand</th>\n",
       "      <th>Model</th>\n",
       "      <th>CPU</th>\n",
       "      <th>RAM</th>\n",
       "      <th>Storage</th>\n",
       "      <th>Storage type</th>\n",
       "      <th>GPU</th>\n",
       "      <th>Screen</th>\n",
       "      <th>Touch</th>\n",
       "      <th>Final Price</th>\n",
       "    </tr>\n",
       "  </thead>\n",
       "  <tbody>\n",
       "    <tr>\n",
       "      <th>0</th>\n",
       "      <td>New</td>\n",
       "      <td>Asus</td>\n",
       "      <td>ExpertBook</td>\n",
       "      <td>Intel Core i5</td>\n",
       "      <td>8</td>\n",
       "      <td>512</td>\n",
       "      <td>SSD</td>\n",
       "      <td>Integrated</td>\n",
       "      <td>15.6</td>\n",
       "      <td>0</td>\n",
       "      <td>16648500.0</td>\n",
       "    </tr>\n",
       "    <tr>\n",
       "      <th>1</th>\n",
       "      <td>New</td>\n",
       "      <td>Alurin</td>\n",
       "      <td>Go</td>\n",
       "      <td>Intel Celeron</td>\n",
       "      <td>8</td>\n",
       "      <td>256</td>\n",
       "      <td>SSD</td>\n",
       "      <td>Integrated</td>\n",
       "      <td>15.6</td>\n",
       "      <td>0</td>\n",
       "      <td>4933500.0</td>\n",
       "    </tr>\n",
       "    <tr>\n",
       "      <th>2</th>\n",
       "      <td>New</td>\n",
       "      <td>Asus</td>\n",
       "      <td>ExpertBook</td>\n",
       "      <td>Intel Core i3</td>\n",
       "      <td>8</td>\n",
       "      <td>256</td>\n",
       "      <td>SSD</td>\n",
       "      <td>Integrated</td>\n",
       "      <td>15.6</td>\n",
       "      <td>0</td>\n",
       "      <td>13018500.0</td>\n",
       "    </tr>\n",
       "    <tr>\n",
       "      <th>3</th>\n",
       "      <td>New</td>\n",
       "      <td>MSI</td>\n",
       "      <td>Katana</td>\n",
       "      <td>Intel Core i7</td>\n",
       "      <td>16</td>\n",
       "      <td>1000</td>\n",
       "      <td>SSD</td>\n",
       "      <td>RTX 3050</td>\n",
       "      <td>15.6</td>\n",
       "      <td>0</td>\n",
       "      <td>19783500.0</td>\n",
       "    </tr>\n",
       "    <tr>\n",
       "      <th>4</th>\n",
       "      <td>New</td>\n",
       "      <td>HP</td>\n",
       "      <td>15S</td>\n",
       "      <td>Intel Core i5</td>\n",
       "      <td>16</td>\n",
       "      <td>512</td>\n",
       "      <td>SSD</td>\n",
       "      <td>Integrated</td>\n",
       "      <td>15.6</td>\n",
       "      <td>0</td>\n",
       "      <td>11038665.0</td>\n",
       "    </tr>\n",
       "  </tbody>\n",
       "</table>\n",
       "</div>"
      ],
      "text/plain": [
       "  Status   Brand       Model            CPU  RAM  Storage Storage type  \\\n",
       "0    New    Asus  ExpertBook  Intel Core i5    8      512          SSD   \n",
       "1    New  Alurin          Go  Intel Celeron    8      256          SSD   \n",
       "2    New    Asus  ExpertBook  Intel Core i3    8      256          SSD   \n",
       "3    New     MSI      Katana  Intel Core i7   16     1000          SSD   \n",
       "4    New      HP         15S  Intel Core i5   16      512          SSD   \n",
       "\n",
       "          GPU  Screen  Touch  Final Price  \n",
       "0  Integrated    15.6      0   16648500.0  \n",
       "1  Integrated    15.6      0    4933500.0  \n",
       "2  Integrated    15.6      0   13018500.0  \n",
       "3    RTX 3050    15.6      0   19783500.0  \n",
       "4  Integrated    15.6      0   11038665.0  "
      ]
     },
     "execution_count": 29,
     "metadata": {},
     "output_type": "execute_result"
    }
   ],
   "source": [
    "# Konversi harga ke jutaan jika perlu\n",
    "df['Final Price'] = df['Final Price'] * 16500  # USD to IDR\n",
    "\n",
    "# Pastikan kolom RAM dan Storage bertipe numerik\n",
    "df['RAM'] = df['RAM'].astype(int)\n",
    "df['Storage'] = df['Storage'].astype(int)\n",
    "\n",
    "# Normalisasi teks\n",
    "df['Touch'] = df['Touch'].str.strip().str.lower()\n",
    "df['Touch'] = df['Touch'].replace({'yes': 1, 'no': 0})\n",
    "\n",
    "# Preview\n",
    "df.head()\n"
   ]
  },
  {
   "cell_type": "code",
   "execution_count": 33,
   "id": "2b0a3964",
   "metadata": {},
   "outputs": [],
   "source": [
    "df.to_csv('cleaned_dataset.csv', index=False)"
   ]
  },
  {
   "cell_type": "markdown",
   "id": "2283efdd",
   "metadata": {},
   "source": [
    "\n",
    "## 3. Pemahaman Kebutuhan Pengguna (NLP)\n",
    "\n",
    "### Tujuan\n",
    "Menginterpretasikan input teks dari pengguna untuk memahami kebutuhan.\n",
    "\n",
    "### Langkah\n",
    "1. Tokenisasi dan Stemming.\n",
    "2. Perhitungan TF-IDF.\n",
    "3. Pembuatan vektor kebutuhan.\n",
    "\n",
    "### Implementasi\n"
   ]
  },
  {
   "cell_type": "code",
   "execution_count": 48,
   "id": "ebf19c47",
   "metadata": {},
   "outputs": [
    {
     "data": {
      "text/html": [
       "<div>\n",
       "<style scoped>\n",
       "    .dataframe tbody tr th:only-of-type {\n",
       "        vertical-align: middle;\n",
       "    }\n",
       "\n",
       "    .dataframe tbody tr th {\n",
       "        vertical-align: top;\n",
       "    }\n",
       "\n",
       "    .dataframe thead th {\n",
       "        text-align: right;\n",
       "    }\n",
       "</style>\n",
       "<table border=\"1\" class=\"dataframe\">\n",
       "  <thead>\n",
       "    <tr style=\"text-align: right;\">\n",
       "      <th></th>\n",
       "      <th>Teks Kebutuhan</th>\n",
       "      <th>Label</th>\n",
       "    </tr>\n",
       "  </thead>\n",
       "  <tbody>\n",
       "    <tr>\n",
       "      <th>0</th>\n",
       "      <td>Saya butuh laptop untuk edit video dan desain ...</td>\n",
       "      <td>desain</td>\n",
       "    </tr>\n",
       "    <tr>\n",
       "      <th>1</th>\n",
       "      <td>Main Valorant dan GTA V tanpa lag</td>\n",
       "      <td>gaming</td>\n",
       "    </tr>\n",
       "    <tr>\n",
       "      <th>2</th>\n",
       "      <td>Laptop untuk bekerja, menggunakan Zoom dan Mic...</td>\n",
       "      <td>kantor</td>\n",
       "    </tr>\n",
       "    <tr>\n",
       "      <th>3</th>\n",
       "      <td>Laptop ringan untuk browsing dan mengetik</td>\n",
       "      <td>umum</td>\n",
       "    </tr>\n",
       "    <tr>\n",
       "      <th>4</th>\n",
       "      <td>Untuk main game berat seperti Cyberpunk dan El...</td>\n",
       "      <td>gaming</td>\n",
       "    </tr>\n",
       "  </tbody>\n",
       "</table>\n",
       "</div>"
      ],
      "text/plain": [
       "                                      Teks Kebutuhan   Label\n",
       "0  Saya butuh laptop untuk edit video dan desain ...  desain\n",
       "1                  Main Valorant dan GTA V tanpa lag  gaming\n",
       "2  Laptop untuk bekerja, menggunakan Zoom dan Mic...  kantor\n",
       "3          Laptop ringan untuk browsing dan mengetik    umum\n",
       "4  Untuk main game berat seperti Cyberpunk dan El...  gaming"
      ]
     },
     "execution_count": 48,
     "metadata": {},
     "output_type": "execute_result"
    }
   ],
   "source": [
    "# Contoh NLP dengan TF-IDF\n",
    "# Load data simulasi preferensi pengguna\n",
    "df_pref = pd.read_csv('simulasi_preferensi_pengguna.csv')\n",
    "df_pref.head()"
   ]
  },
  {
   "cell_type": "code",
   "execution_count": 49,
   "id": "9cd8535d",
   "metadata": {},
   "outputs": [],
   "source": [
    "# Inisialisasi stemmer Bahasa Indonesia\n",
    "stemmer = StemmerFactory().create_stemmer()\n",
    "\n",
    "def preprocess(text):\n",
    "    text = text.lower()\n",
    "    text = re.sub(r'[^a-z\\s]', '', text)\n",
    "    return stemmer.stem(text)"
   ]
  },
  {
   "cell_type": "code",
   "execution_count": 51,
   "id": "d7602c45",
   "metadata": {},
   "outputs": [],
   "source": [
    "# Terapkan preprocessing ke kolom teks\n",
    "df_pref['preprocessed'] = df_pref['Teks Kebutuhan'].apply(preprocess)\n",
    "\n",
    "# TF-IDF Vectorization\n",
    "vectorizer = TfidfVectorizer()\n",
    "X = vectorizer.fit_transform(df_pref[\"preprocessed\"]).toarray()"
   ]
  },
  {
   "cell_type": "code",
   "execution_count": 54,
   "id": "21580bee",
   "metadata": {},
   "outputs": [],
   "source": [
    "# Encode label\n",
    "label_encoder = LabelEncoder()\n",
    "y = label_encoder.fit_transform(df_pref[\"Label\"])"
   ]
  },
  {
   "cell_type": "code",
   "execution_count": 55,
   "id": "3d638eb8",
   "metadata": {},
   "outputs": [],
   "source": [
    "# Train-test split\n",
    "X_train, X_test, y_train, y_test = train_test_split(X, y, test_size=0.2, random_state=42)"
   ]
  },
  {
   "cell_type": "code",
   "execution_count": 56,
   "id": "d39c01c6",
   "metadata": {},
   "outputs": [],
   "source": [
    "# Build model\n",
    "model = tf.keras.Sequential([\n",
    "    tf.keras.layers.Input(shape=(X_train.shape[1],)),\n",
    "    tf.keras.layers.Dense(128, activation='relu'),\n",
    "    tf.keras.layers.Dropout(0.3),\n",
    "    tf.keras.layers.Dense(4, activation='softmax')\n",
    "])\n",
    "\n",
    "model.compile(optimizer='adam',\n",
    "              loss='sparse_categorical_crossentropy',\n",
    "              metrics=['accuracy'])"
   ]
  },
  {
   "cell_type": "code",
   "execution_count": 57,
   "id": "334de417",
   "metadata": {},
   "outputs": [
    {
     "name": "stdout",
     "output_type": "stream",
     "text": [
      "Epoch 1/30\n",
      "5/5 [==============================] - 2s 128ms/step - loss: 1.4066 - accuracy: 0.1579 - val_loss: 1.3425 - val_accuracy: 0.4000\n",
      "Epoch 2/30\n",
      "5/5 [==============================] - 0s 21ms/step - loss: 1.3710 - accuracy: 0.3158 - val_loss: 1.3502 - val_accuracy: 0.4000\n",
      "Epoch 3/30\n",
      "5/5 [==============================] - 0s 23ms/step - loss: 1.3581 - accuracy: 0.3158 - val_loss: 1.3567 - val_accuracy: 0.4000\n",
      "Epoch 4/30\n",
      "5/5 [==============================] - 0s 20ms/step - loss: 1.3167 - accuracy: 0.5789 - val_loss: 1.3628 - val_accuracy: 0.4000\n",
      "Epoch 5/30\n",
      "5/5 [==============================] - 0s 26ms/step - loss: 1.2634 - accuracy: 0.7368 - val_loss: 1.3689 - val_accuracy: 0.4000\n",
      "Epoch 6/30\n",
      "5/5 [==============================] - 0s 26ms/step - loss: 1.2293 - accuracy: 0.8421 - val_loss: 1.3758 - val_accuracy: 0.2000\n",
      "Epoch 7/30\n",
      "5/5 [==============================] - 0s 21ms/step - loss: 1.2198 - accuracy: 0.7895 - val_loss: 1.3814 - val_accuracy: 0.2000\n",
      "Epoch 8/30\n",
      "5/5 [==============================] - 0s 23ms/step - loss: 1.2078 - accuracy: 0.7895 - val_loss: 1.3857 - val_accuracy: 0.2000\n",
      "Epoch 9/30\n",
      "5/5 [==============================] - 0s 23ms/step - loss: 1.1680 - accuracy: 0.8421 - val_loss: 1.3905 - val_accuracy: 0.2000\n",
      "Epoch 10/30\n",
      "5/5 [==============================] - 0s 21ms/step - loss: 1.1190 - accuracy: 1.0000 - val_loss: 1.3933 - val_accuracy: 0.4000\n",
      "Epoch 11/30\n",
      "5/5 [==============================] - 0s 21ms/step - loss: 1.0964 - accuracy: 0.9474 - val_loss: 1.3960 - val_accuracy: 0.4000\n",
      "Epoch 12/30\n",
      "5/5 [==============================] - 0s 21ms/step - loss: 1.0592 - accuracy: 0.9474 - val_loss: 1.4004 - val_accuracy: 0.4000\n",
      "Epoch 13/30\n",
      "5/5 [==============================] - 0s 21ms/step - loss: 1.0286 - accuracy: 0.8947 - val_loss: 1.4034 - val_accuracy: 0.4000\n",
      "Epoch 14/30\n",
      "5/5 [==============================] - 0s 19ms/step - loss: 1.0088 - accuracy: 0.9474 - val_loss: 1.4041 - val_accuracy: 0.4000\n",
      "Epoch 15/30\n",
      "5/5 [==============================] - 0s 20ms/step - loss: 0.9692 - accuracy: 1.0000 - val_loss: 1.4050 - val_accuracy: 0.4000\n",
      "Epoch 16/30\n",
      "5/5 [==============================] - 0s 22ms/step - loss: 0.9349 - accuracy: 1.0000 - val_loss: 1.4090 - val_accuracy: 0.4000\n",
      "Epoch 17/30\n",
      "5/5 [==============================] - 0s 18ms/step - loss: 0.8995 - accuracy: 1.0000 - val_loss: 1.4097 - val_accuracy: 0.4000\n",
      "Epoch 18/30\n",
      "5/5 [==============================] - 0s 17ms/step - loss: 0.8477 - accuracy: 1.0000 - val_loss: 1.4146 - val_accuracy: 0.4000\n",
      "Epoch 19/30\n",
      "5/5 [==============================] - 0s 17ms/step - loss: 0.8376 - accuracy: 1.0000 - val_loss: 1.4161 - val_accuracy: 0.4000\n",
      "Epoch 20/30\n",
      "5/5 [==============================] - 0s 16ms/step - loss: 0.7837 - accuracy: 1.0000 - val_loss: 1.4174 - val_accuracy: 0.4000\n",
      "Epoch 21/30\n",
      "5/5 [==============================] - 0s 17ms/step - loss: 0.7638 - accuracy: 0.9474 - val_loss: 1.4202 - val_accuracy: 0.4000\n",
      "Epoch 22/30\n",
      "5/5 [==============================] - 0s 17ms/step - loss: 0.7046 - accuracy: 1.0000 - val_loss: 1.4251 - val_accuracy: 0.4000\n",
      "Epoch 23/30\n",
      "5/5 [==============================] - 0s 17ms/step - loss: 0.6387 - accuracy: 1.0000 - val_loss: 1.4309 - val_accuracy: 0.4000\n",
      "Epoch 24/30\n",
      "5/5 [==============================] - 0s 17ms/step - loss: 0.6650 - accuracy: 1.0000 - val_loss: 1.4350 - val_accuracy: 0.4000\n",
      "Epoch 25/30\n",
      "5/5 [==============================] - 0s 21ms/step - loss: 0.6152 - accuracy: 1.0000 - val_loss: 1.4379 - val_accuracy: 0.4000\n",
      "Epoch 26/30\n",
      "5/5 [==============================] - 0s 22ms/step - loss: 0.5510 - accuracy: 1.0000 - val_loss: 1.4361 - val_accuracy: 0.4000\n",
      "Epoch 27/30\n",
      "5/5 [==============================] - 0s 22ms/step - loss: 0.5512 - accuracy: 1.0000 - val_loss: 1.4361 - val_accuracy: 0.4000\n",
      "Epoch 28/30\n",
      "5/5 [==============================] - 0s 21ms/step - loss: 0.5378 - accuracy: 1.0000 - val_loss: 1.4344 - val_accuracy: 0.4000\n",
      "Epoch 29/30\n",
      "5/5 [==============================] - 0s 21ms/step - loss: 0.5172 - accuracy: 1.0000 - val_loss: 1.4342 - val_accuracy: 0.4000\n",
      "Epoch 30/30\n",
      "5/5 [==============================] - 0s 20ms/step - loss: 0.4864 - accuracy: 1.0000 - val_loss: 1.4354 - val_accuracy: 0.4000\n"
     ]
    },
    {
     "data": {
      "text/plain": [
       "<keras.callbacks.History at 0x21b1c3e6050>"
      ]
     },
     "execution_count": 57,
     "metadata": {},
     "output_type": "execute_result"
    }
   ],
   "source": [
    "# Train model\n",
    "model.fit(X_train, y_train, epochs=30, batch_size=4, validation_split=0.2)"
   ]
  },
  {
   "cell_type": "code",
   "execution_count": 58,
   "id": "67eb63c5",
   "metadata": {},
   "outputs": [
    {
     "name": "stdout",
     "output_type": "stream",
     "text": [
      "1/1 [==============================] - 0s 86ms/step - loss: 1.2784 - accuracy: 0.3333\n",
      "Accuracy: 0.3333333432674408\n"
     ]
    }
   ],
   "source": [
    "# Evaluate\n",
    "loss, acc = model.evaluate(X_test, y_test)\n",
    "print(\"Accuracy:\", acc)"
   ]
  },
  {
   "cell_type": "code",
   "execution_count": 61,
   "id": "916ccbae",
   "metadata": {},
   "outputs": [
    {
     "data": {
      "text/plain": [
       "['label_encoder.pkl']"
      ]
     },
     "execution_count": 61,
     "metadata": {},
     "output_type": "execute_result"
    }
   ],
   "source": [
    "# Simpan model TensorFlow\n",
    "model.save(\"lappick_model.h5\")\n",
    "\n",
    "# Simpan vectorizer dan label encoder\n",
    "joblib.dump(vectorizer, \"tfidf_vectorizer.pkl\")\n",
    "joblib.dump(label_encoder, \"label_encoder.pkl\")"
   ]
  },
  {
   "cell_type": "markdown",
   "id": "dad1c481",
   "metadata": {},
   "source": [
    "\n",
    "## 4. Sistem Rekomendasi\n",
    "\n",
    "### Tujuan\n",
    "Merekomendasikan laptop berdasarkan kesesuaian dengan input pengguna.\n",
    "\n",
    "### Langkah\n",
    "1. Menghitung kemiripan vektor (cosine similarity).\n",
    "2. Menampilkan laptop dengan skor tertinggi.\n",
    "\n",
    "### Implementasi\n"
   ]
  },
  {
   "cell_type": "code",
   "execution_count": 62,
   "id": "4c8e0289",
   "metadata": {},
   "outputs": [],
   "source": [
    "# Load semua komponen\n",
    "model = tf.keras.models.load_model(\"lappick_model.h5\")\n",
    "vectorizer = joblib.load(\"tfidf_vectorizer.pkl\")\n",
    "label_encoder = joblib.load(\"label_encoder.pkl\")\n",
    "df_laptop = pd.read_csv(\"cleaned_dataset.csv\")"
   ]
  },
  {
   "cell_type": "code",
   "execution_count": 69,
   "id": "e5519e1c",
   "metadata": {},
   "outputs": [],
   "source": [
    "# Preprocess\n",
    "stemmer = StemmerFactory().create_stemmer()\n",
    "def preprocess(text):\n",
    "    text = text.lower()\n",
    "    text = re.sub(r'[^a-z\\s]', '', text)\n",
    "    return stemmer.stem(text)"
   ]
  },
  {
   "cell_type": "code",
   "execution_count": 70,
   "id": "dd2f360d",
   "metadata": {},
   "outputs": [],
   "source": [
    "def ekstrak_budget(teks):\n",
    "    # Cari angka dan konversi dari \"juta\" ke angka (jika disebutkan)\n",
    "    match = re.search(r'(\\d+)\\s*(juta|jt)', teks.lower())\n",
    "    if match:\n",
    "        angka = int(match.group(1)) * 1_000_000\n",
    "        return angka\n",
    "    return None  # Tidak ada angka ditemukan\n"
   ]
  },
  {
   "cell_type": "code",
   "execution_count": 71,
   "id": "43e80149",
   "metadata": {},
   "outputs": [],
   "source": [
    "def rekomendasi(teks_user, top_n=5):\n",
    "    teks_clean = preprocess(teks_user)\n",
    "    vektor_input = vectorizer.transform([teks_clean]).toarray()\n",
    "    prediksi = model.predict(vektor_input)[0]\n",
    "    label_index = np.argmax(prediksi)\n",
    "    label = label_encoder.inverse_transform([label_index])[0]\n",
    "\n",
    "    # Filter label\n",
    "    df = df_laptop.copy()\n",
    "    if label == 'gaming':\n",
    "        df = df[(df['RAM'] >= 8) & df['GPU'].str.contains(\"RTX|GTX|Radeon\", na=False, case=False)]\n",
    "    elif label == 'desain':\n",
    "        df = df[(df['RAM'] >= 8) & \n",
    "                df['Storage'] >= 256 &\n",
    "                df['CPU'].str.contains(\"i5|i7|Ryzen 5|Ryzen 7\", na=False, case=False) &\n",
    "                df['GPU'].str.contains(\"RTX|GTX|Radeon\", na=False, case=False)]\n",
    "    elif label == 'kantor':\n",
    "        df = df[(df['RAM'] >= 4) & (df['Storage'] >= 256)]\n",
    "    else:\n",
    "        df = df[df['RAM'] >= 4]\n",
    "\n",
    "    # Tambahan: filter berdasarkan budget\n",
    "    budget = ekstrak_budget(teks_user)\n",
    "    if budget:\n",
    "        df = df[df['Final Price'] <= budget]\n",
    "\n",
    "    hasil = df.sort_values(by=\"Final Price\").head(top_n)\n",
    "    return label, hasil.reset_index(drop=True)\n"
   ]
  },
  {
   "cell_type": "code",
   "execution_count": 76,
   "id": "bae3e082",
   "metadata": {},
   "outputs": [
    {
     "name": "stdout",
     "output_type": "stream",
     "text": [
      "1/1 [==============================] - 0s 61ms/step\n",
      "Kategori: gaming\n",
      "Hasil Rekomendasi:\n",
      "        Status Brand     Model            CPU  RAM  Storage Storage type  \\\n",
      "0  Refurbished  Acer     Nitro  Intel Core i5    8      256          SSD   \n",
      "1  Refurbished    HP  Pavilion  Intel Core i5    8      512          SSD   \n",
      "\n",
      "        GPU  Screen  Touch  Final Price  \n",
      "0  GTX 1650    15.6      0    7880235.0  \n",
      "1  GTX 1050    16.1      0    8998770.0  \n"
     ]
    }
   ],
   "source": [
    "# input_user = \"Saya ingin laptop untuk main game FPS dan edit video ringan\"\n",
    "input_user = \"Saya ingin laptop untuk main game Valorant 1000 FPS dengan budget 10 juta\"\n",
    "# input_user = \"Saya ingin laptop untuk main game FPS dan edit video ringan\"\n",
    "label, hasil_rekomendasi = rekomendasi(input_user)\n",
    "\n",
    "print(\"Kategori:\", label)\n",
    "print(\"Hasil Rekomendasi:\")\n",
    "print(hasil_rekomendasi)"
   ]
  },
  {
   "cell_type": "markdown",
   "id": "4dafcd90",
   "metadata": {},
   "source": [
    "\n",
    "## 5. Evaluasi Model\n",
    "\n",
    "### Tujuan\n",
    "Mengukur akurasi dan efektivitas model rekomendasi.\n",
    "\n",
    "### Metode\n",
    "- Precision, Recall, F1-Score\n",
    "- Cosine Similarity\n",
    "\n",
    "### Implementasi\n"
   ]
  },
  {
   "cell_type": "code",
   "execution_count": null,
   "id": "9b1b282c",
   "metadata": {},
   "outputs": [],
   "source": []
  }
 ],
 "metadata": {
  "kernelspec": {
   "display_name": "pengembangan-ml",
   "language": "python",
   "name": "python3"
  },
  "language_info": {
   "codemirror_mode": {
    "name": "ipython",
    "version": 3
   },
   "file_extension": ".py",
   "mimetype": "text/x-python",
   "name": "python",
   "nbconvert_exporter": "python",
   "pygments_lexer": "ipython3",
   "version": "3.10.13"
  }
 },
 "nbformat": 4,
 "nbformat_minor": 5
}
