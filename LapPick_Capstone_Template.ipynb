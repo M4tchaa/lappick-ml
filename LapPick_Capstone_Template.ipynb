{
 "cells": [
  {
   "cell_type": "markdown",
   "id": "89b5bf88",
   "metadata": {},
   "source": [
    "\n",
    "# LapPick: Sistem Rekomendasi Laptop Menggunakan NLP\n",
    "### Capstone Project Laskar AI\n",
    "\n",
    "**Tanggal Pembuatan:** 20 May 2025\n",
    "\n",
    "**Tim:** LAI25-SM035  \n",
    "**Anggota:**  \n",
    "- A533YBM071 – ARLIYANDI – STIKOM EL RAHMA  \n",
    "- A006YBF160 – FATHUR RAHMAN AL FARIZY – Universitas Brawijaya  \n",
    "- A245YBF227 – IRFAN FAJAR MUTTAQIN – Universitas Kristen Satya Wacana Salatiga  \n",
    "- A011XBF457 – SHOFURA TSABITAH RAHMAH – Universitas Padjadjaran  \n",
    "\n",
    "---\n",
    "\n",
    "## Deskripsi Proyek\n",
    "LapPick adalah sistem rekomendasi laptop berbasis Natural Language Processing (NLP) untuk membantu calon pembeli memilih laptop berdasarkan kebutuhan (gaming, desain grafis, perkantoran, dll.) dan anggaran.\n"
   ]
  },
  {
   "cell_type": "code",
   "execution_count": 23,
   "id": "ac1effa1",
   "metadata": {},
   "outputs": [
    {
     "name": "stderr",
     "output_type": "stream",
     "text": [
      "[nltk_data] Downloading package punkt to\n",
      "[nltk_data]     C:\\Users\\Development\\AppData\\Roaming\\nltk_data...\n",
      "[nltk_data]   Package punkt is already up-to-date!\n"
     ]
    }
   ],
   "source": [
    "# Data Processing and Numerical Operations\n",
    "import pandas as pd\n",
    "import numpy as np\n",
    "\n",
    "# Natural Language Processing (NLP)\n",
    "from Sastrawi.Stemmer.StemmerFactory import StemmerFactory\n",
    "from sklearn.feature_extraction.text import TfidfVectorizer\n",
    "import nltk\n",
    "nltk.download('punkt')\n",
    "\n",
    "# Machine Learning and Model Evaluation\n",
    "from sklearn.metrics.pairwise import cosine_similarity\n",
    "from sklearn.metrics import classification_report\n",
    "from sklearn.model_selection import train_test_split\n",
    "\n",
    "# Web Scraping (Jika Diperlukan)\n",
    "import requests\n",
    "from bs4 import BeautifulSoup\n",
    "from selenium import webdriver\n",
    "\n",
    "# Visualization (Jika Diperlukan)\n",
    "import matplotlib.pyplot as plt\n",
    "\n",
    "# Optional: TensorFlow (Jika ingin model rekomendasi kompleks)\n",
    "import tensorflow as tf\n",
    "\n",
    "# General Settings\n",
    "import warnings\n",
    "warnings.filterwarnings('ignore')"
   ]
  },
  {
   "cell_type": "markdown",
   "id": "b466d129",
   "metadata": {},
   "source": [
    "\n",
    "## 1. Pengumpulan Data\n",
    "\n",
    "### Tujuan\n",
    "Mengumpulkan data spesifikasi laptop dari berbagai sumber (e-commerce, dataset publik).\n",
    "\n",
    "### Langkah\n",
    "1. Melakukan web scraping dari situs e-commerce.\n",
    "2. Mengambil dataset dari Kaggle (jika ada).\n",
    "\n",
    "### Implementasi\n"
   ]
  },
  {
   "cell_type": "code",
   "execution_count": 24,
   "id": "fdbc9599",
   "metadata": {},
   "outputs": [],
   "source": [
    "\n",
    "# Contoh penggunaan BeautifulSoup untuk scraping data laptop dari e-commerce\n",
    "df_a = pd.read_csv('datasets/laptop_data.csv')\n",
    "df_b = pd.read_csv('datasets/LaptopPricePrediction.csv')\n",
    "df_c = pd.read_csv('datasets/laptops.csv')\n"
   ]
  },
  {
   "cell_type": "code",
   "execution_count": 25,
   "id": "16e850e5",
   "metadata": {},
   "outputs": [
    {
     "name": "stdout",
     "output_type": "stream",
     "text": [
      "<class 'pandas.core.frame.DataFrame'>\n",
      "RangeIndex: 1303 entries, 0 to 1302\n",
      "Data columns (total 12 columns):\n",
      " #   Column            Non-Null Count  Dtype  \n",
      "---  ------            --------------  -----  \n",
      " 0   Unnamed: 0        1303 non-null   int64  \n",
      " 1   Company           1303 non-null   object \n",
      " 2   TypeName          1303 non-null   object \n",
      " 3   Inches            1303 non-null   float64\n",
      " 4   ScreenResolution  1303 non-null   object \n",
      " 5   Cpu               1303 non-null   object \n",
      " 6   Ram               1303 non-null   object \n",
      " 7   Memory            1303 non-null   object \n",
      " 8   Gpu               1303 non-null   object \n",
      " 9   OpSys             1303 non-null   object \n",
      " 10  Weight            1303 non-null   object \n",
      " 11  Price             1303 non-null   float64\n",
      "dtypes: float64(2), int64(1), object(9)\n",
      "memory usage: 122.3+ KB\n"
     ]
    }
   ],
   "source": [
    "df_a.head()\n",
    "df_a.info()"
   ]
  },
  {
   "cell_type": "code",
   "execution_count": 26,
   "id": "056dc71d",
   "metadata": {},
   "outputs": [
    {
     "name": "stdout",
     "output_type": "stream",
     "text": [
      "<class 'pandas.core.frame.DataFrame'>\n",
      "RangeIndex: 550 entries, 0 to 549\n",
      "Data columns (total 10 columns):\n",
      " #   Column            Non-Null Count  Dtype  \n",
      "---  ------            --------------  -----  \n",
      " 0   Unnamed: 0        550 non-null    int64  \n",
      " 1   Name              550 non-null    object \n",
      " 2   Processor         550 non-null    object \n",
      " 3   RAM               550 non-null    object \n",
      " 4   Operating System  550 non-null    object \n",
      " 5   Storage           550 non-null    object \n",
      " 6   Display           550 non-null    object \n",
      " 7   Warranty          550 non-null    object \n",
      " 8   Price             550 non-null    object \n",
      " 9   rating            550 non-null    float64\n",
      "dtypes: float64(1), int64(1), object(8)\n",
      "memory usage: 43.1+ KB\n"
     ]
    }
   ],
   "source": [
    "df_b.head()\n",
    "df_b.info()"
   ]
  },
  {
   "cell_type": "code",
   "execution_count": 27,
   "id": "9023b7aa",
   "metadata": {},
   "outputs": [
    {
     "name": "stdout",
     "output_type": "stream",
     "text": [
      "<class 'pandas.core.frame.DataFrame'>\n",
      "RangeIndex: 2160 entries, 0 to 2159\n",
      "Data columns (total 12 columns):\n",
      " #   Column        Non-Null Count  Dtype  \n",
      "---  ------        --------------  -----  \n",
      " 0   Laptop        2160 non-null   object \n",
      " 1   Status        2160 non-null   object \n",
      " 2   Brand         2160 non-null   object \n",
      " 3   Model         2160 non-null   object \n",
      " 4   CPU           2160 non-null   object \n",
      " 5   RAM           2160 non-null   int64  \n",
      " 6   Storage       2160 non-null   int64  \n",
      " 7   Storage type  2118 non-null   object \n",
      " 8   GPU           789 non-null    object \n",
      " 9   Screen        2156 non-null   float64\n",
      " 10  Touch         2160 non-null   object \n",
      " 11  Final Price   2160 non-null   float64\n",
      "dtypes: float64(2), int64(2), object(8)\n",
      "memory usage: 202.6+ KB\n"
     ]
    }
   ],
   "source": [
    "df_c.head()\n",
    "df_c.info()"
   ]
  },
  {
   "cell_type": "markdown",
   "id": "1bceeb68",
   "metadata": {},
   "source": [
    "\n",
    "## 2. Pembersihan dan Praproses Data\n",
    "\n",
    "### Tujuan\n",
    "Membersihkan data agar konsisten dan siap diproses oleh model.\n",
    "\n",
    "### Langkah\n",
    "1. Menghilangkan duplikasi.\n",
    "2. Mengatasi nilai kosong.\n",
    "3. Normalisasi teks (misalnya, huruf kecil).\n",
    "\n",
    "### Implementasi\n"
   ]
  },
  {
   "cell_type": "code",
   "execution_count": 28,
   "id": "fb3e6314",
   "metadata": {},
   "outputs": [
    {
     "name": "stdout",
     "output_type": "stream",
     "text": [
      "  Status   Brand       Model            CPU  RAM  Storage Storage type  \\\n",
      "0    New    Asus  ExpertBook  Intel Core i5    8      512          SSD   \n",
      "1    New  Alurin          Go  Intel Celeron    8      256          SSD   \n",
      "2    New    Asus  ExpertBook  Intel Core i3    8      256          SSD   \n",
      "3    New     MSI      Katana  Intel Core i7   16     1000          SSD   \n",
      "4    New      HP         15S  Intel Core i5   16      512          SSD   \n",
      "\n",
      "          GPU  Screen Touch  Final Price  \n",
      "0  Integrated    15.6    No      1009.00  \n",
      "1  Integrated    15.6    No       299.00  \n",
      "2  Integrated    15.6    No       789.00  \n",
      "3    RTX 3050    15.6    No      1199.00  \n",
      "4  Integrated    15.6    No       669.01  \n",
      "<class 'pandas.core.frame.DataFrame'>\n",
      "RangeIndex: 2160 entries, 0 to 2159\n",
      "Data columns (total 11 columns):\n",
      " #   Column        Non-Null Count  Dtype  \n",
      "---  ------        --------------  -----  \n",
      " 0   Status        2160 non-null   object \n",
      " 1   Brand         2160 non-null   object \n",
      " 2   Model         2160 non-null   object \n",
      " 3   CPU           2160 non-null   object \n",
      " 4   RAM           2160 non-null   int64  \n",
      " 5   Storage       2160 non-null   int64  \n",
      " 6   Storage type  2160 non-null   object \n",
      " 7   GPU           2160 non-null   object \n",
      " 8   Screen        2160 non-null   float64\n",
      " 9   Touch         2160 non-null   object \n",
      " 10  Final Price   2160 non-null   float64\n",
      "dtypes: float64(2), int64(2), object(7)\n",
      "memory usage: 185.8+ KB\n",
      "None\n"
     ]
    }
   ],
   "source": [
    "\n",
    "# Contoh membersihkan data\n",
    "\n",
    "df = pd.read_csv('datasets/laptops.csv')\n",
    "\n",
    "df.drop(columns=['Laptop'], inplace=True)  # Nama deskriptif yang bisa digantikan oleh spesifikasi\n",
    "\n",
    "# Tangani missing value\n",
    "df['GPU'].fillna('Integrated', inplace=True)\n",
    "df['Storage type'].fillna('Unknown', inplace=True)\n",
    "df['Screen'].fillna(df['Screen'].median(), inplace=True)  # Imputasi numerik\n",
    "df.dropna(inplace=True)  # Jika ada sisa null, drop saja\n",
    "\n",
    "print(df.head())\n",
    "print(df.info())\n"
   ]
  },
  {
   "cell_type": "code",
   "execution_count": null,
   "id": "83539936",
   "metadata": {},
   "outputs": [
    {
     "data": {
      "text/html": [
       "<div>\n",
       "<style scoped>\n",
       "    .dataframe tbody tr th:only-of-type {\n",
       "        vertical-align: middle;\n",
       "    }\n",
       "\n",
       "    .dataframe tbody tr th {\n",
       "        vertical-align: top;\n",
       "    }\n",
       "\n",
       "    .dataframe thead th {\n",
       "        text-align: right;\n",
       "    }\n",
       "</style>\n",
       "<table border=\"1\" class=\"dataframe\">\n",
       "  <thead>\n",
       "    <tr style=\"text-align: right;\">\n",
       "      <th></th>\n",
       "      <th>Status</th>\n",
       "      <th>Brand</th>\n",
       "      <th>Model</th>\n",
       "      <th>CPU</th>\n",
       "      <th>RAM</th>\n",
       "      <th>Storage</th>\n",
       "      <th>Storage type</th>\n",
       "      <th>GPU</th>\n",
       "      <th>Screen</th>\n",
       "      <th>Touch</th>\n",
       "      <th>Final Price</th>\n",
       "    </tr>\n",
       "  </thead>\n",
       "  <tbody>\n",
       "    <tr>\n",
       "      <th>0</th>\n",
       "      <td>New</td>\n",
       "      <td>Asus</td>\n",
       "      <td>ExpertBook</td>\n",
       "      <td>Intel Core i5</td>\n",
       "      <td>8</td>\n",
       "      <td>512</td>\n",
       "      <td>SSD</td>\n",
       "      <td>Integrated</td>\n",
       "      <td>15.6</td>\n",
       "      <td>0</td>\n",
       "      <td>16648500.0</td>\n",
       "    </tr>\n",
       "    <tr>\n",
       "      <th>1</th>\n",
       "      <td>New</td>\n",
       "      <td>Alurin</td>\n",
       "      <td>Go</td>\n",
       "      <td>Intel Celeron</td>\n",
       "      <td>8</td>\n",
       "      <td>256</td>\n",
       "      <td>SSD</td>\n",
       "      <td>Integrated</td>\n",
       "      <td>15.6</td>\n",
       "      <td>0</td>\n",
       "      <td>4933500.0</td>\n",
       "    </tr>\n",
       "    <tr>\n",
       "      <th>2</th>\n",
       "      <td>New</td>\n",
       "      <td>Asus</td>\n",
       "      <td>ExpertBook</td>\n",
       "      <td>Intel Core i3</td>\n",
       "      <td>8</td>\n",
       "      <td>256</td>\n",
       "      <td>SSD</td>\n",
       "      <td>Integrated</td>\n",
       "      <td>15.6</td>\n",
       "      <td>0</td>\n",
       "      <td>13018500.0</td>\n",
       "    </tr>\n",
       "    <tr>\n",
       "      <th>3</th>\n",
       "      <td>New</td>\n",
       "      <td>MSI</td>\n",
       "      <td>Katana</td>\n",
       "      <td>Intel Core i7</td>\n",
       "      <td>16</td>\n",
       "      <td>1000</td>\n",
       "      <td>SSD</td>\n",
       "      <td>RTX 3050</td>\n",
       "      <td>15.6</td>\n",
       "      <td>0</td>\n",
       "      <td>19783500.0</td>\n",
       "    </tr>\n",
       "    <tr>\n",
       "      <th>4</th>\n",
       "      <td>New</td>\n",
       "      <td>HP</td>\n",
       "      <td>15S</td>\n",
       "      <td>Intel Core i5</td>\n",
       "      <td>16</td>\n",
       "      <td>512</td>\n",
       "      <td>SSD</td>\n",
       "      <td>Integrated</td>\n",
       "      <td>15.6</td>\n",
       "      <td>0</td>\n",
       "      <td>11038665.0</td>\n",
       "    </tr>\n",
       "  </tbody>\n",
       "</table>\n",
       "</div>"
      ],
      "text/plain": [
       "  Status   Brand       Model            CPU  RAM  Storage Storage type  \\\n",
       "0    New    Asus  ExpertBook  Intel Core i5    8      512          SSD   \n",
       "1    New  Alurin          Go  Intel Celeron    8      256          SSD   \n",
       "2    New    Asus  ExpertBook  Intel Core i3    8      256          SSD   \n",
       "3    New     MSI      Katana  Intel Core i7   16     1000          SSD   \n",
       "4    New      HP         15S  Intel Core i5   16      512          SSD   \n",
       "\n",
       "          GPU  Screen  Touch  Final Price  \n",
       "0  Integrated    15.6      0   16648500.0  \n",
       "1  Integrated    15.6      0    4933500.0  \n",
       "2  Integrated    15.6      0   13018500.0  \n",
       "3    RTX 3050    15.6      0   19783500.0  \n",
       "4  Integrated    15.6      0   11038665.0  "
      ]
     },
     "execution_count": 29,
     "metadata": {},
     "output_type": "execute_result"
    }
   ],
   "source": [
    "# Konversi harga ke jutaan jika perlu\n",
    "df['Final Price'] = df['Final Price'] * 16500  # USD to IDR\n",
    "\n",
    "# Pastikan kolom RAM dan Storage bertipe numerik\n",
    "df['RAM'] = df['RAM'].astype(int)\n",
    "df['Storage'] = df['Storage'].astype(int)\n",
    "\n",
    "# Normalisasi teks\n",
    "df['Touch'] = df['Touch'].str.strip().str.lower()\n",
    "df['Touch'] = df['Touch'].replace({'yes': 1, 'no': 0})\n",
    "\n",
    "# Preview\n",
    "df.head()\n"
   ]
  },
  {
   "cell_type": "code",
   "execution_count": 33,
   "id": "2b0a3964",
   "metadata": {},
   "outputs": [],
   "source": [
    "df.to_csv('cleaned_dataset.csv', index=False)"
   ]
  },
  {
   "cell_type": "markdown",
   "id": "2283efdd",
   "metadata": {},
   "source": [
    "\n",
    "## 3. Pemahaman Kebutuhan Pengguna (NLP)\n",
    "\n",
    "### Tujuan\n",
    "Menginterpretasikan input teks dari pengguna untuk memahami kebutuhan.\n",
    "\n",
    "### Langkah\n",
    "1. Tokenisasi dan Stemming.\n",
    "2. Perhitungan TF-IDF.\n",
    "3. Pembuatan vektor kebutuhan.\n",
    "\n",
    "### Implementasi\n"
   ]
  },
  {
   "cell_type": "code",
   "execution_count": 30,
   "id": "ebf19c47",
   "metadata": {},
   "outputs": [
    {
     "name": "stdout",
     "output_type": "stream",
     "text": [
      "TF-IDF Matrix:\n",
      "[[0.6316672  0.         0.6316672  0.         0.44943642 0.        ]\n",
      " [0.         0.53404633 0.         0.53404633 0.37997836 0.53404633]]\n"
     ]
    }
   ],
   "source": [
    "\n",
    "# Contoh NLP dengan TF-IDF\n",
    "\n",
    "# Buat stemmer\n",
    "factory = StemmerFactory()\n",
    "stemmer = factory.create_stemmer()\n",
    "\n",
    "# Tokenisasi dan stemming\n",
    "texts = ['Laptop gaming terbaik', 'Laptop desain grafis murah']\n",
    "processed_texts = [stemmer.stem(text) for text in texts]\n",
    "\n",
    "# TF-IDF Vectorizer\n",
    "vectorizer = TfidfVectorizer()\n",
    "tfidf_matrix = vectorizer.fit_transform(processed_texts)\n",
    "\n",
    "print('TF-IDF Matrix:')\n",
    "print(tfidf_matrix.toarray())\n"
   ]
  },
  {
   "cell_type": "markdown",
   "id": "dad1c481",
   "metadata": {},
   "source": [
    "\n",
    "## 4. Sistem Rekomendasi\n",
    "\n",
    "### Tujuan\n",
    "Merekomendasikan laptop berdasarkan kesesuaian dengan input pengguna.\n",
    "\n",
    "### Langkah\n",
    "1. Menghitung kemiripan vektor (cosine similarity).\n",
    "2. Menampilkan laptop dengan skor tertinggi.\n",
    "\n",
    "### Implementasi\n"
   ]
  },
  {
   "cell_type": "code",
   "execution_count": 31,
   "id": "4c8e0289",
   "metadata": {},
   "outputs": [
    {
     "name": "stdout",
     "output_type": "stream",
     "text": [
      "Cosine Similarity:\n",
      "[[1.         0.17077611]\n",
      " [0.17077611 1.        ]]\n"
     ]
    }
   ],
   "source": [
    "\n",
    "# Contoh menghitung kemiripan\n",
    "similarity = cosine_similarity(tfidf_matrix)\n",
    "print('Cosine Similarity:')\n",
    "print(similarity)\n"
   ]
  },
  {
   "cell_type": "markdown",
   "id": "4dafcd90",
   "metadata": {},
   "source": [
    "\n",
    "## 5. Evaluasi Model\n",
    "\n",
    "### Tujuan\n",
    "Mengukur akurasi dan efektivitas model rekomendasi.\n",
    "\n",
    "### Metode\n",
    "- Precision, Recall, F1-Score\n",
    "- Cosine Similarity\n",
    "\n",
    "### Implementasi\n"
   ]
  },
  {
   "cell_type": "code",
   "execution_count": 32,
   "id": "020c8f5e",
   "metadata": {},
   "outputs": [
    {
     "name": "stdout",
     "output_type": "stream",
     "text": [
      "              precision    recall  f1-score   support\n",
      "\n",
      "           0       0.00      0.00      0.00         1\n",
      "           1       0.50      1.00      0.67         1\n",
      "\n",
      "    accuracy                           0.50         2\n",
      "   macro avg       0.25      0.50      0.33         2\n",
      "weighted avg       0.25      0.50      0.33         2\n",
      "\n"
     ]
    }
   ],
   "source": [
    "\n",
    "# Contoh evaluasi model\n",
    "true_labels = [1, 0]\n",
    "predictions = [1, 1]\n",
    "print(classification_report(true_labels, predictions))\n"
   ]
  }
 ],
 "metadata": {
  "kernelspec": {
   "display_name": "pengembangan-ml",
   "language": "python",
   "name": "python3"
  },
  "language_info": {
   "codemirror_mode": {
    "name": "ipython",
    "version": 3
   },
   "file_extension": ".py",
   "mimetype": "text/x-python",
   "name": "python",
   "nbconvert_exporter": "python",
   "pygments_lexer": "ipython3",
   "version": "3.10.13"
  }
 },
 "nbformat": 4,
 "nbformat_minor": 5
}
