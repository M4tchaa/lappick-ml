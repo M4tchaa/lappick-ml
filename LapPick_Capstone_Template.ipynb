{
 "cells": [
  {
   "cell_type": "markdown",
   "id": "89b5bf88",
   "metadata": {},
   "source": [
    "\n",
    "# LapPick: Sistem Rekomendasi Laptop Menggunakan NLP\n",
    "### Capstone Project Laskar AI\n",
    "\n",
    "**Tanggal Pembuatan:** 20 May 2025\n",
    "\n",
    "**Tim:** LAI25-SM035  \n",
    "**Anggota:**  \n",
    "- A533YBM071 – ARLIYANDI – STIKOM EL RAHMA  \n",
    "- A006YBF160 – FATHUR RAHMAN AL FARIZY – Universitas Brawijaya  \n",
    "- A245YBF227 – IRFAN FAJAR MUTTAQIN – Universitas Kristen Satya Wacana Salatiga  \n",
    "- A011XBF457 – SHOFURA TSABITAH RAHMAH – Universitas Padjadjaran  \n",
    "\n",
    "---\n",
    "\n",
    "## Deskripsi Proyek\n",
    "LapPick adalah sistem rekomendasi laptop berbasis Natural Language Processing (NLP) untuk membantu calon pembeli memilih laptop berdasarkan kebutuhan (gaming, desain grafis, perkantoran, dll.) dan anggaran.\n"
   ]
  },
  {
   "cell_type": "code",
   "execution_count": 1,
   "id": "ac1effa1",
   "metadata": {},
   "outputs": [
    {
     "name": "stderr",
     "output_type": "stream",
     "text": [
      "[nltk_data] Downloading package punkt to /home/f2rra/nltk_data...\n",
      "[nltk_data]   Package punkt is already up-to-date!\n"
     ]
    }
   ],
   "source": [
    "# Data Processing and Numerical Operations\n",
    "import pandas as pd\n",
    "import numpy as np\n",
    "import re\n",
    "\n",
    "# Natural Language Processing (NLP)\n",
    "from Sastrawi.Stemmer.StemmerFactory import StemmerFactory\n",
    "from sklearn.feature_extraction.text import TfidfVectorizer\n",
    "from sklearn.preprocessing import LabelEncoder\n",
    "import nltk\n",
    "nltk.download('punkt')\n",
    "\n",
    "# Machine Learning and Model Evaluation\n",
    "from sklearn.model_selection import train_test_split\n",
    "\n",
    "\n",
    "# TensorFlow (model rekomendasi)\n",
    "import tensorflow as tf\n",
    "\n",
    "# General Settings\n",
    "import joblib\n",
    "import warnings\n",
    "warnings.filterwarnings('ignore')"
   ]
  },
  {
   "cell_type": "markdown",
   "id": "b466d129",
   "metadata": {},
   "source": [
    "\n",
    "## 1. Pengumpulan Data\n",
    "\n",
    "### Tujuan\n",
    "Mengumpulkan data spesifikasi laptop dari berbagai sumber (e-commerce, dataset publik).\n",
    "\n",
    "### Langkah\n",
    "1. Melakukan web scraping dari situs e-commerce.\n",
    "2. Mengambil dataset dari Kaggle.\n",
    "\n",
    "### Implementasi\n"
   ]
  },
  {
   "cell_type": "code",
   "execution_count": 2,
   "id": "fdbc9599",
   "metadata": {},
   "outputs": [],
   "source": [
    "\n",
    "df_a = pd.read_csv('datasets/laptop_data.csv')\n",
    "df_b = pd.read_csv('datasets/LaptopPricePrediction.csv')\n",
    "df_c = pd.read_csv('datasets/laptops.csv')\n"
   ]
  },
  {
   "cell_type": "code",
   "execution_count": 3,
   "id": "e1016d0e",
   "metadata": {},
   "outputs": [
    {
     "data": {
      "application/vnd.microsoft.datawrangler.viewer.v0+json": {
       "columns": [
        {
         "name": "index",
         "rawType": "int64",
         "type": "integer"
        },
        {
         "name": "Unnamed: 0",
         "rawType": "int64",
         "type": "integer"
        },
        {
         "name": "Company",
         "rawType": "object",
         "type": "string"
        },
        {
         "name": "TypeName",
         "rawType": "object",
         "type": "string"
        },
        {
         "name": "Inches",
         "rawType": "float64",
         "type": "float"
        },
        {
         "name": "ScreenResolution",
         "rawType": "object",
         "type": "string"
        },
        {
         "name": "Cpu",
         "rawType": "object",
         "type": "string"
        },
        {
         "name": "Ram",
         "rawType": "object",
         "type": "string"
        },
        {
         "name": "Memory",
         "rawType": "object",
         "type": "string"
        },
        {
         "name": "Gpu",
         "rawType": "object",
         "type": "string"
        },
        {
         "name": "OpSys",
         "rawType": "object",
         "type": "string"
        },
        {
         "name": "Weight",
         "rawType": "object",
         "type": "string"
        },
        {
         "name": "Price",
         "rawType": "float64",
         "type": "float"
        }
       ],
       "ref": "8042f3a3-0ad0-4d3f-800a-fc1adb44840d",
       "rows": [
        [
         "0",
         "0",
         "Apple",
         "Ultrabook",
         "13.3",
         "IPS Panel Retina Display 2560x1600",
         "Intel Core i5 2.3GHz",
         "8GB",
         "128GB SSD",
         "Intel Iris Plus Graphics 640",
         "macOS",
         "1.37kg",
         "71378.6832"
        ],
        [
         "1",
         "1",
         "Apple",
         "Ultrabook",
         "13.3",
         "1440x900",
         "Intel Core i5 1.8GHz",
         "8GB",
         "128GB Flash Storage",
         "Intel HD Graphics 6000",
         "macOS",
         "1.34kg",
         "47895.5232"
        ],
        [
         "2",
         "2",
         "HP",
         "Notebook",
         "15.6",
         "Full HD 1920x1080",
         "Intel Core i5 7200U 2.5GHz",
         "8GB",
         "256GB SSD",
         "Intel HD Graphics 620",
         "No OS",
         "1.86kg",
         "30636.0"
        ],
        [
         "3",
         "3",
         "Apple",
         "Ultrabook",
         "15.4",
         "IPS Panel Retina Display 2880x1800",
         "Intel Core i7 2.7GHz",
         "16GB",
         "512GB SSD",
         "AMD Radeon Pro 455",
         "macOS",
         "1.83kg",
         "135195.33599999998"
        ],
        [
         "4",
         "4",
         "Apple",
         "Ultrabook",
         "13.3",
         "IPS Panel Retina Display 2560x1600",
         "Intel Core i5 3.1GHz",
         "8GB",
         "256GB SSD",
         "Intel Iris Plus Graphics 650",
         "macOS",
         "1.37kg",
         "96095.808"
        ]
       ],
       "shape": {
        "columns": 12,
        "rows": 5
       }
      },
      "text/html": [
       "<div>\n",
       "<style scoped>\n",
       "    .dataframe tbody tr th:only-of-type {\n",
       "        vertical-align: middle;\n",
       "    }\n",
       "\n",
       "    .dataframe tbody tr th {\n",
       "        vertical-align: top;\n",
       "    }\n",
       "\n",
       "    .dataframe thead th {\n",
       "        text-align: right;\n",
       "    }\n",
       "</style>\n",
       "<table border=\"1\" class=\"dataframe\">\n",
       "  <thead>\n",
       "    <tr style=\"text-align: right;\">\n",
       "      <th></th>\n",
       "      <th>Unnamed: 0</th>\n",
       "      <th>Company</th>\n",
       "      <th>TypeName</th>\n",
       "      <th>Inches</th>\n",
       "      <th>ScreenResolution</th>\n",
       "      <th>Cpu</th>\n",
       "      <th>Ram</th>\n",
       "      <th>Memory</th>\n",
       "      <th>Gpu</th>\n",
       "      <th>OpSys</th>\n",
       "      <th>Weight</th>\n",
       "      <th>Price</th>\n",
       "    </tr>\n",
       "  </thead>\n",
       "  <tbody>\n",
       "    <tr>\n",
       "      <th>0</th>\n",
       "      <td>0</td>\n",
       "      <td>Apple</td>\n",
       "      <td>Ultrabook</td>\n",
       "      <td>13.3</td>\n",
       "      <td>IPS Panel Retina Display 2560x1600</td>\n",
       "      <td>Intel Core i5 2.3GHz</td>\n",
       "      <td>8GB</td>\n",
       "      <td>128GB SSD</td>\n",
       "      <td>Intel Iris Plus Graphics 640</td>\n",
       "      <td>macOS</td>\n",
       "      <td>1.37kg</td>\n",
       "      <td>71378.6832</td>\n",
       "    </tr>\n",
       "    <tr>\n",
       "      <th>1</th>\n",
       "      <td>1</td>\n",
       "      <td>Apple</td>\n",
       "      <td>Ultrabook</td>\n",
       "      <td>13.3</td>\n",
       "      <td>1440x900</td>\n",
       "      <td>Intel Core i5 1.8GHz</td>\n",
       "      <td>8GB</td>\n",
       "      <td>128GB Flash Storage</td>\n",
       "      <td>Intel HD Graphics 6000</td>\n",
       "      <td>macOS</td>\n",
       "      <td>1.34kg</td>\n",
       "      <td>47895.5232</td>\n",
       "    </tr>\n",
       "    <tr>\n",
       "      <th>2</th>\n",
       "      <td>2</td>\n",
       "      <td>HP</td>\n",
       "      <td>Notebook</td>\n",
       "      <td>15.6</td>\n",
       "      <td>Full HD 1920x1080</td>\n",
       "      <td>Intel Core i5 7200U 2.5GHz</td>\n",
       "      <td>8GB</td>\n",
       "      <td>256GB SSD</td>\n",
       "      <td>Intel HD Graphics 620</td>\n",
       "      <td>No OS</td>\n",
       "      <td>1.86kg</td>\n",
       "      <td>30636.0000</td>\n",
       "    </tr>\n",
       "    <tr>\n",
       "      <th>3</th>\n",
       "      <td>3</td>\n",
       "      <td>Apple</td>\n",
       "      <td>Ultrabook</td>\n",
       "      <td>15.4</td>\n",
       "      <td>IPS Panel Retina Display 2880x1800</td>\n",
       "      <td>Intel Core i7 2.7GHz</td>\n",
       "      <td>16GB</td>\n",
       "      <td>512GB SSD</td>\n",
       "      <td>AMD Radeon Pro 455</td>\n",
       "      <td>macOS</td>\n",
       "      <td>1.83kg</td>\n",
       "      <td>135195.3360</td>\n",
       "    </tr>\n",
       "    <tr>\n",
       "      <th>4</th>\n",
       "      <td>4</td>\n",
       "      <td>Apple</td>\n",
       "      <td>Ultrabook</td>\n",
       "      <td>13.3</td>\n",
       "      <td>IPS Panel Retina Display 2560x1600</td>\n",
       "      <td>Intel Core i5 3.1GHz</td>\n",
       "      <td>8GB</td>\n",
       "      <td>256GB SSD</td>\n",
       "      <td>Intel Iris Plus Graphics 650</td>\n",
       "      <td>macOS</td>\n",
       "      <td>1.37kg</td>\n",
       "      <td>96095.8080</td>\n",
       "    </tr>\n",
       "  </tbody>\n",
       "</table>\n",
       "</div>"
      ],
      "text/plain": [
       "   Unnamed: 0 Company   TypeName  Inches                    ScreenResolution  \\\n",
       "0           0   Apple  Ultrabook    13.3  IPS Panel Retina Display 2560x1600   \n",
       "1           1   Apple  Ultrabook    13.3                            1440x900   \n",
       "2           2      HP   Notebook    15.6                   Full HD 1920x1080   \n",
       "3           3   Apple  Ultrabook    15.4  IPS Panel Retina Display 2880x1800   \n",
       "4           4   Apple  Ultrabook    13.3  IPS Panel Retina Display 2560x1600   \n",
       "\n",
       "                          Cpu   Ram               Memory  \\\n",
       "0        Intel Core i5 2.3GHz   8GB            128GB SSD   \n",
       "1        Intel Core i5 1.8GHz   8GB  128GB Flash Storage   \n",
       "2  Intel Core i5 7200U 2.5GHz   8GB            256GB SSD   \n",
       "3        Intel Core i7 2.7GHz  16GB            512GB SSD   \n",
       "4        Intel Core i5 3.1GHz   8GB            256GB SSD   \n",
       "\n",
       "                            Gpu  OpSys  Weight        Price  \n",
       "0  Intel Iris Plus Graphics 640  macOS  1.37kg   71378.6832  \n",
       "1        Intel HD Graphics 6000  macOS  1.34kg   47895.5232  \n",
       "2         Intel HD Graphics 620  No OS  1.86kg   30636.0000  \n",
       "3            AMD Radeon Pro 455  macOS  1.83kg  135195.3360  \n",
       "4  Intel Iris Plus Graphics 650  macOS  1.37kg   96095.8080  "
      ]
     },
     "execution_count": 3,
     "metadata": {},
     "output_type": "execute_result"
    }
   ],
   "source": [
    "df_a.head()"
   ]
  },
  {
   "cell_type": "code",
   "execution_count": 4,
   "id": "16e850e5",
   "metadata": {},
   "outputs": [
    {
     "name": "stdout",
     "output_type": "stream",
     "text": [
      "<class 'pandas.core.frame.DataFrame'>\n",
      "RangeIndex: 1303 entries, 0 to 1302\n",
      "Data columns (total 12 columns):\n",
      " #   Column            Non-Null Count  Dtype  \n",
      "---  ------            --------------  -----  \n",
      " 0   Unnamed: 0        1303 non-null   int64  \n",
      " 1   Company           1303 non-null   object \n",
      " 2   TypeName          1303 non-null   object \n",
      " 3   Inches            1303 non-null   float64\n",
      " 4   ScreenResolution  1303 non-null   object \n",
      " 5   Cpu               1303 non-null   object \n",
      " 6   Ram               1303 non-null   object \n",
      " 7   Memory            1303 non-null   object \n",
      " 8   Gpu               1303 non-null   object \n",
      " 9   OpSys             1303 non-null   object \n",
      " 10  Weight            1303 non-null   object \n",
      " 11  Price             1303 non-null   float64\n",
      "dtypes: float64(2), int64(1), object(9)\n",
      "memory usage: 122.3+ KB\n"
     ]
    }
   ],
   "source": [
    "df_a.info()"
   ]
  },
  {
   "cell_type": "code",
   "execution_count": 5,
   "id": "89493c15",
   "metadata": {},
   "outputs": [
    {
     "data": {
      "application/vnd.microsoft.datawrangler.viewer.v0+json": {
       "columns": [
        {
         "name": "index",
         "rawType": "int64",
         "type": "integer"
        },
        {
         "name": "Unnamed: 0",
         "rawType": "int64",
         "type": "integer"
        },
        {
         "name": "Name",
         "rawType": "object",
         "type": "string"
        },
        {
         "name": "Processor",
         "rawType": "object",
         "type": "string"
        },
        {
         "name": "RAM",
         "rawType": "object",
         "type": "string"
        },
        {
         "name": "Operating System",
         "rawType": "object",
         "type": "string"
        },
        {
         "name": "Storage",
         "rawType": "object",
         "type": "string"
        },
        {
         "name": "Display",
         "rawType": "object",
         "type": "string"
        },
        {
         "name": "Warranty",
         "rawType": "object",
         "type": "string"
        },
        {
         "name": "Price",
         "rawType": "object",
         "type": "string"
        },
        {
         "name": "rating",
         "rawType": "float64",
         "type": "float"
        }
       ],
       "ref": "0bca6133-1390-42bf-b317-2b62554a49cd",
       "rows": [
        [
         "0",
         "0",
         "Lenovo Ideapad S145 Core i5 10th Gen - (8 GB/1 TB HDD/Windows 10 Home) S145-15IIL Laptop",
         "Intel Core i5 Processor (10th Gen)",
         "8 GB DDR4 RAM",
         "64 bit Windows 10 Operating System",
         "1 TB HDD",
         "39.62 cm (15.6 inch) Display",
         "1 Year Onsite Warranty",
         "₹43,990",
         "3.9"
        ],
        [
         "1",
         "1",
         "Lenovo IdeaPad Core i3 11th Gen - (8 GB/256 GB SSD/Windows 10 Home) IdeaPad 3 14ITL6 Thin and Light La...",
         "Intel Core i3 Processor (11th Gen)",
         "8 GB DDR4 RAM",
         "64 bit Windows 10 Operating System",
         "256 GB SSD",
         "35.56 cm (14 Inch) Display",
         "1 Year Onsite Warranty",
         "₹43,990",
         "4.2"
        ],
        [
         "2",
         "2",
         "HP Pentium Quad Core - (8 GB/256 GB SSD/Windows 10 Home) 14s- DQ3018TU Thin and Light Laptop",
         "Intel Pentium Quad Core Processor",
         "8 GB DDR4 RAM",
         "64 bit Windows 10 Operating System",
         "256 GB SSD",
         "35.56 cm (14 inch) Display",
         "1 Year Onsite Warranty",
         "₹31,490",
         "4.6"
        ],
        [
         "3",
         "3",
         "HP 14s Core i3 11th Gen - (8 GB/256 GB SSD/Windows 10 Home) 14s- DY2501TU Thin and Light Laptop",
         "Intel Core i3 Processor (11th Gen)",
         "8 GB DDR4 RAM",
         "64 bit Windows 10 Operating System",
         "256 GB SSD",
         "35.56 cm (14 inch) Display",
         "1 Year Onsite Warranty",
         "₹40,990",
         "4.1"
        ],
        [
         "4",
         "4",
         "HP 15s Athlon Dual Core - (4 GB/1 TB HDD/Windows 10 Home) 15s-GY0001AU Thin and Light Laptop",
         "AMD Athlon Dual Core Processor",
         "4 GB DDR4 RAM",
         "64 bit Windows 10 Operating System",
         "1 TB HDD",
         "39.62 cm (15.6 inch) Display",
         "1 Year Onsite Warranty",
         "₹27,490",
         "4.1"
        ]
       ],
       "shape": {
        "columns": 10,
        "rows": 5
       }
      },
      "text/html": [
       "<div>\n",
       "<style scoped>\n",
       "    .dataframe tbody tr th:only-of-type {\n",
       "        vertical-align: middle;\n",
       "    }\n",
       "\n",
       "    .dataframe tbody tr th {\n",
       "        vertical-align: top;\n",
       "    }\n",
       "\n",
       "    .dataframe thead th {\n",
       "        text-align: right;\n",
       "    }\n",
       "</style>\n",
       "<table border=\"1\" class=\"dataframe\">\n",
       "  <thead>\n",
       "    <tr style=\"text-align: right;\">\n",
       "      <th></th>\n",
       "      <th>Unnamed: 0</th>\n",
       "      <th>Name</th>\n",
       "      <th>Processor</th>\n",
       "      <th>RAM</th>\n",
       "      <th>Operating System</th>\n",
       "      <th>Storage</th>\n",
       "      <th>Display</th>\n",
       "      <th>Warranty</th>\n",
       "      <th>Price</th>\n",
       "      <th>rating</th>\n",
       "    </tr>\n",
       "  </thead>\n",
       "  <tbody>\n",
       "    <tr>\n",
       "      <th>0</th>\n",
       "      <td>0</td>\n",
       "      <td>Lenovo Ideapad S145 Core i5 10th Gen - (8 GB/1...</td>\n",
       "      <td>Intel Core i5 Processor (10th Gen)</td>\n",
       "      <td>8 GB DDR4 RAM</td>\n",
       "      <td>64 bit Windows 10 Operating System</td>\n",
       "      <td>1 TB HDD</td>\n",
       "      <td>39.62 cm (15.6 inch) Display</td>\n",
       "      <td>1 Year Onsite Warranty</td>\n",
       "      <td>₹43,990</td>\n",
       "      <td>3.9</td>\n",
       "    </tr>\n",
       "    <tr>\n",
       "      <th>1</th>\n",
       "      <td>1</td>\n",
       "      <td>Lenovo IdeaPad Core i3 11th Gen - (8 GB/256 GB...</td>\n",
       "      <td>Intel Core i3 Processor (11th Gen)</td>\n",
       "      <td>8 GB DDR4 RAM</td>\n",
       "      <td>64 bit Windows 10 Operating System</td>\n",
       "      <td>256 GB SSD</td>\n",
       "      <td>35.56 cm (14 Inch) Display</td>\n",
       "      <td>1 Year Onsite Warranty</td>\n",
       "      <td>₹43,990</td>\n",
       "      <td>4.2</td>\n",
       "    </tr>\n",
       "    <tr>\n",
       "      <th>2</th>\n",
       "      <td>2</td>\n",
       "      <td>HP Pentium Quad Core - (8 GB/256 GB SSD/Window...</td>\n",
       "      <td>Intel Pentium Quad Core Processor</td>\n",
       "      <td>8 GB DDR4 RAM</td>\n",
       "      <td>64 bit Windows 10 Operating System</td>\n",
       "      <td>256 GB SSD</td>\n",
       "      <td>35.56 cm (14 inch) Display</td>\n",
       "      <td>1 Year Onsite Warranty</td>\n",
       "      <td>₹31,490</td>\n",
       "      <td>4.6</td>\n",
       "    </tr>\n",
       "    <tr>\n",
       "      <th>3</th>\n",
       "      <td>3</td>\n",
       "      <td>HP 14s Core i3 11th Gen - (8 GB/256 GB SSD/Win...</td>\n",
       "      <td>Intel Core i3 Processor (11th Gen)</td>\n",
       "      <td>8 GB DDR4 RAM</td>\n",
       "      <td>64 bit Windows 10 Operating System</td>\n",
       "      <td>256 GB SSD</td>\n",
       "      <td>35.56 cm (14 inch) Display</td>\n",
       "      <td>1 Year Onsite Warranty</td>\n",
       "      <td>₹40,990</td>\n",
       "      <td>4.1</td>\n",
       "    </tr>\n",
       "    <tr>\n",
       "      <th>4</th>\n",
       "      <td>4</td>\n",
       "      <td>HP 15s Athlon Dual Core - (4 GB/1 TB HDD/Windo...</td>\n",
       "      <td>AMD Athlon Dual Core Processor</td>\n",
       "      <td>4 GB DDR4 RAM</td>\n",
       "      <td>64 bit Windows 10 Operating System</td>\n",
       "      <td>1 TB HDD</td>\n",
       "      <td>39.62 cm (15.6 inch) Display</td>\n",
       "      <td>1 Year Onsite Warranty</td>\n",
       "      <td>₹27,490</td>\n",
       "      <td>4.1</td>\n",
       "    </tr>\n",
       "  </tbody>\n",
       "</table>\n",
       "</div>"
      ],
      "text/plain": [
       "   Unnamed: 0                                               Name  \\\n",
       "0           0  Lenovo Ideapad S145 Core i5 10th Gen - (8 GB/1...   \n",
       "1           1  Lenovo IdeaPad Core i3 11th Gen - (8 GB/256 GB...   \n",
       "2           2  HP Pentium Quad Core - (8 GB/256 GB SSD/Window...   \n",
       "3           3  HP 14s Core i3 11th Gen - (8 GB/256 GB SSD/Win...   \n",
       "4           4  HP 15s Athlon Dual Core - (4 GB/1 TB HDD/Windo...   \n",
       "\n",
       "                            Processor            RAM  \\\n",
       "0  Intel Core i5 Processor (10th Gen)  8 GB DDR4 RAM   \n",
       "1  Intel Core i3 Processor (11th Gen)  8 GB DDR4 RAM   \n",
       "2   Intel Pentium Quad Core Processor  8 GB DDR4 RAM   \n",
       "3  Intel Core i3 Processor (11th Gen)  8 GB DDR4 RAM   \n",
       "4      AMD Athlon Dual Core Processor  4 GB DDR4 RAM   \n",
       "\n",
       "                     Operating System     Storage  \\\n",
       "0  64 bit Windows 10 Operating System    1 TB HDD   \n",
       "1  64 bit Windows 10 Operating System  256 GB SSD   \n",
       "2  64 bit Windows 10 Operating System  256 GB SSD   \n",
       "3  64 bit Windows 10 Operating System  256 GB SSD   \n",
       "4  64 bit Windows 10 Operating System    1 TB HDD   \n",
       "\n",
       "                        Display                Warranty    Price  rating  \n",
       "0  39.62 cm (15.6 inch) Display  1 Year Onsite Warranty  ₹43,990     3.9  \n",
       "1    35.56 cm (14 Inch) Display  1 Year Onsite Warranty  ₹43,990     4.2  \n",
       "2    35.56 cm (14 inch) Display  1 Year Onsite Warranty  ₹31,490     4.6  \n",
       "3    35.56 cm (14 inch) Display  1 Year Onsite Warranty  ₹40,990     4.1  \n",
       "4  39.62 cm (15.6 inch) Display  1 Year Onsite Warranty  ₹27,490     4.1  "
      ]
     },
     "execution_count": 5,
     "metadata": {},
     "output_type": "execute_result"
    }
   ],
   "source": [
    "df_b.head()"
   ]
  },
  {
   "cell_type": "code",
   "execution_count": 6,
   "id": "056dc71d",
   "metadata": {},
   "outputs": [
    {
     "name": "stdout",
     "output_type": "stream",
     "text": [
      "<class 'pandas.core.frame.DataFrame'>\n",
      "RangeIndex: 550 entries, 0 to 549\n",
      "Data columns (total 10 columns):\n",
      " #   Column            Non-Null Count  Dtype  \n",
      "---  ------            --------------  -----  \n",
      " 0   Unnamed: 0        550 non-null    int64  \n",
      " 1   Name              550 non-null    object \n",
      " 2   Processor         550 non-null    object \n",
      " 3   RAM               550 non-null    object \n",
      " 4   Operating System  550 non-null    object \n",
      " 5   Storage           550 non-null    object \n",
      " 6   Display           550 non-null    object \n",
      " 7   Warranty          550 non-null    object \n",
      " 8   Price             550 non-null    object \n",
      " 9   rating            550 non-null    float64\n",
      "dtypes: float64(1), int64(1), object(8)\n",
      "memory usage: 43.1+ KB\n"
     ]
    }
   ],
   "source": [
    "df_b.info()"
   ]
  },
  {
   "cell_type": "code",
   "execution_count": 7,
   "id": "6b1b959f",
   "metadata": {},
   "outputs": [
    {
     "data": {
      "application/vnd.microsoft.datawrangler.viewer.v0+json": {
       "columns": [
        {
         "name": "index",
         "rawType": "int64",
         "type": "integer"
        },
        {
         "name": "Laptop",
         "rawType": "object",
         "type": "string"
        },
        {
         "name": "Status",
         "rawType": "object",
         "type": "string"
        },
        {
         "name": "Brand",
         "rawType": "object",
         "type": "string"
        },
        {
         "name": "Model",
         "rawType": "object",
         "type": "string"
        },
        {
         "name": "CPU",
         "rawType": "object",
         "type": "string"
        },
        {
         "name": "RAM",
         "rawType": "int64",
         "type": "integer"
        },
        {
         "name": "Storage",
         "rawType": "int64",
         "type": "integer"
        },
        {
         "name": "Storage type",
         "rawType": "object",
         "type": "string"
        },
        {
         "name": "GPU",
         "rawType": "object",
         "type": "string"
        },
        {
         "name": "Screen",
         "rawType": "float64",
         "type": "float"
        },
        {
         "name": "Touch",
         "rawType": "object",
         "type": "string"
        },
        {
         "name": "Final Price",
         "rawType": "float64",
         "type": "float"
        }
       ],
       "ref": "b554f41f-10d3-4bb6-a032-507677c8404c",
       "rows": [
        [
         "0",
         "ASUS ExpertBook B1 B1502CBA-EJ0436X Intel Core i5-1235U/8GB/512GB SSD/15.6\"",
         "New",
         "Asus",
         "ExpertBook",
         "Intel Core i5",
         "8",
         "512",
         "SSD",
         null,
         "15.6",
         "No",
         "1009.0"
        ],
        [
         "1",
         "Alurin Go Start Intel Celeron N4020/8GB/256GB SSD/15.6\"",
         "New",
         "Alurin",
         "Go",
         "Intel Celeron",
         "8",
         "256",
         "SSD",
         null,
         "15.6",
         "No",
         "299.0"
        ],
        [
         "2",
         "ASUS ExpertBook B1 B1502CBA-EJ0424X Intel Core i3-1215U/8GB/256GB SSD/15.6\"",
         "New",
         "Asus",
         "ExpertBook",
         "Intel Core i3",
         "8",
         "256",
         "SSD",
         null,
         "15.6",
         "No",
         "789.0"
        ],
        [
         "3",
         "MSI Katana GF66 12UC-082XES Intel Core i7-12700H/16GB/1TB SSD/RTX3050/15.6\"",
         "New",
         "MSI",
         "Katana",
         "Intel Core i7",
         "16",
         "1000",
         "SSD",
         "RTX 3050",
         "15.6",
         "No",
         "1199.0"
        ],
        [
         "4",
         "HP 15S-FQ5085NS Intel Core i5-1235U/16GB/512GB SSD/15.6\"",
         "New",
         "HP",
         "15S",
         "Intel Core i5",
         "16",
         "512",
         "SSD",
         null,
         "15.6",
         "No",
         "669.01"
        ]
       ],
       "shape": {
        "columns": 12,
        "rows": 5
       }
      },
      "text/html": [
       "<div>\n",
       "<style scoped>\n",
       "    .dataframe tbody tr th:only-of-type {\n",
       "        vertical-align: middle;\n",
       "    }\n",
       "\n",
       "    .dataframe tbody tr th {\n",
       "        vertical-align: top;\n",
       "    }\n",
       "\n",
       "    .dataframe thead th {\n",
       "        text-align: right;\n",
       "    }\n",
       "</style>\n",
       "<table border=\"1\" class=\"dataframe\">\n",
       "  <thead>\n",
       "    <tr style=\"text-align: right;\">\n",
       "      <th></th>\n",
       "      <th>Laptop</th>\n",
       "      <th>Status</th>\n",
       "      <th>Brand</th>\n",
       "      <th>Model</th>\n",
       "      <th>CPU</th>\n",
       "      <th>RAM</th>\n",
       "      <th>Storage</th>\n",
       "      <th>Storage type</th>\n",
       "      <th>GPU</th>\n",
       "      <th>Screen</th>\n",
       "      <th>Touch</th>\n",
       "      <th>Final Price</th>\n",
       "    </tr>\n",
       "  </thead>\n",
       "  <tbody>\n",
       "    <tr>\n",
       "      <th>0</th>\n",
       "      <td>ASUS ExpertBook B1 B1502CBA-EJ0436X Intel Core...</td>\n",
       "      <td>New</td>\n",
       "      <td>Asus</td>\n",
       "      <td>ExpertBook</td>\n",
       "      <td>Intel Core i5</td>\n",
       "      <td>8</td>\n",
       "      <td>512</td>\n",
       "      <td>SSD</td>\n",
       "      <td>NaN</td>\n",
       "      <td>15.6</td>\n",
       "      <td>No</td>\n",
       "      <td>1009.00</td>\n",
       "    </tr>\n",
       "    <tr>\n",
       "      <th>1</th>\n",
       "      <td>Alurin Go Start Intel Celeron N4020/8GB/256GB ...</td>\n",
       "      <td>New</td>\n",
       "      <td>Alurin</td>\n",
       "      <td>Go</td>\n",
       "      <td>Intel Celeron</td>\n",
       "      <td>8</td>\n",
       "      <td>256</td>\n",
       "      <td>SSD</td>\n",
       "      <td>NaN</td>\n",
       "      <td>15.6</td>\n",
       "      <td>No</td>\n",
       "      <td>299.00</td>\n",
       "    </tr>\n",
       "    <tr>\n",
       "      <th>2</th>\n",
       "      <td>ASUS ExpertBook B1 B1502CBA-EJ0424X Intel Core...</td>\n",
       "      <td>New</td>\n",
       "      <td>Asus</td>\n",
       "      <td>ExpertBook</td>\n",
       "      <td>Intel Core i3</td>\n",
       "      <td>8</td>\n",
       "      <td>256</td>\n",
       "      <td>SSD</td>\n",
       "      <td>NaN</td>\n",
       "      <td>15.6</td>\n",
       "      <td>No</td>\n",
       "      <td>789.00</td>\n",
       "    </tr>\n",
       "    <tr>\n",
       "      <th>3</th>\n",
       "      <td>MSI Katana GF66 12UC-082XES Intel Core i7-1270...</td>\n",
       "      <td>New</td>\n",
       "      <td>MSI</td>\n",
       "      <td>Katana</td>\n",
       "      <td>Intel Core i7</td>\n",
       "      <td>16</td>\n",
       "      <td>1000</td>\n",
       "      <td>SSD</td>\n",
       "      <td>RTX 3050</td>\n",
       "      <td>15.6</td>\n",
       "      <td>No</td>\n",
       "      <td>1199.00</td>\n",
       "    </tr>\n",
       "    <tr>\n",
       "      <th>4</th>\n",
       "      <td>HP 15S-FQ5085NS Intel Core i5-1235U/16GB/512GB...</td>\n",
       "      <td>New</td>\n",
       "      <td>HP</td>\n",
       "      <td>15S</td>\n",
       "      <td>Intel Core i5</td>\n",
       "      <td>16</td>\n",
       "      <td>512</td>\n",
       "      <td>SSD</td>\n",
       "      <td>NaN</td>\n",
       "      <td>15.6</td>\n",
       "      <td>No</td>\n",
       "      <td>669.01</td>\n",
       "    </tr>\n",
       "  </tbody>\n",
       "</table>\n",
       "</div>"
      ],
      "text/plain": [
       "                                              Laptop Status   Brand  \\\n",
       "0  ASUS ExpertBook B1 B1502CBA-EJ0436X Intel Core...    New    Asus   \n",
       "1  Alurin Go Start Intel Celeron N4020/8GB/256GB ...    New  Alurin   \n",
       "2  ASUS ExpertBook B1 B1502CBA-EJ0424X Intel Core...    New    Asus   \n",
       "3  MSI Katana GF66 12UC-082XES Intel Core i7-1270...    New     MSI   \n",
       "4  HP 15S-FQ5085NS Intel Core i5-1235U/16GB/512GB...    New      HP   \n",
       "\n",
       "        Model            CPU  RAM  Storage Storage type       GPU  Screen  \\\n",
       "0  ExpertBook  Intel Core i5    8      512          SSD       NaN    15.6   \n",
       "1          Go  Intel Celeron    8      256          SSD       NaN    15.6   \n",
       "2  ExpertBook  Intel Core i3    8      256          SSD       NaN    15.6   \n",
       "3      Katana  Intel Core i7   16     1000          SSD  RTX 3050    15.6   \n",
       "4         15S  Intel Core i5   16      512          SSD       NaN    15.6   \n",
       "\n",
       "  Touch  Final Price  \n",
       "0    No      1009.00  \n",
       "1    No       299.00  \n",
       "2    No       789.00  \n",
       "3    No      1199.00  \n",
       "4    No       669.01  "
      ]
     },
     "execution_count": 7,
     "metadata": {},
     "output_type": "execute_result"
    }
   ],
   "source": [
    "df_c.head()"
   ]
  },
  {
   "cell_type": "code",
   "execution_count": 8,
   "id": "9023b7aa",
   "metadata": {},
   "outputs": [
    {
     "name": "stdout",
     "output_type": "stream",
     "text": [
      "<class 'pandas.core.frame.DataFrame'>\n",
      "RangeIndex: 2160 entries, 0 to 2159\n",
      "Data columns (total 12 columns):\n",
      " #   Column        Non-Null Count  Dtype  \n",
      "---  ------        --------------  -----  \n",
      " 0   Laptop        2160 non-null   object \n",
      " 1   Status        2160 non-null   object \n",
      " 2   Brand         2160 non-null   object \n",
      " 3   Model         2160 non-null   object \n",
      " 4   CPU           2160 non-null   object \n",
      " 5   RAM           2160 non-null   int64  \n",
      " 6   Storage       2160 non-null   int64  \n",
      " 7   Storage type  2118 non-null   object \n",
      " 8   GPU           789 non-null    object \n",
      " 9   Screen        2156 non-null   float64\n",
      " 10  Touch         2160 non-null   object \n",
      " 11  Final Price   2160 non-null   float64\n",
      "dtypes: float64(2), int64(2), object(8)\n",
      "memory usage: 202.6+ KB\n"
     ]
    }
   ],
   "source": [
    "df_c.info()"
   ]
  },
  {
   "cell_type": "markdown",
   "id": "1bceeb68",
   "metadata": {},
   "source": [
    "\n",
    "## 2. Pembersihan dan Praproses Data\n",
    "\n",
    "### Tujuan\n",
    "Membersihkan data agar konsisten dan siap diproses oleh model.\n",
    "\n",
    "### Langkah\n",
    "1. Menghilangkan duplikasi.\n",
    "2. Mengatasi nilai kosong.\n",
    "3. Normalisasi teks (misalnya, huruf kecil).\n",
    "\n",
    "### Implementasi\n"
   ]
  },
  {
   "cell_type": "code",
   "execution_count": 9,
   "id": "fb3e6314",
   "metadata": {},
   "outputs": [
    {
     "name": "stdout",
     "output_type": "stream",
     "text": [
      "  Status   Brand       Model            CPU  RAM  Storage Storage type  \\\n",
      "0    New    Asus  ExpertBook  Intel Core i5    8      512          SSD   \n",
      "1    New  Alurin          Go  Intel Celeron    8      256          SSD   \n",
      "2    New    Asus  ExpertBook  Intel Core i3    8      256          SSD   \n",
      "3    New     MSI      Katana  Intel Core i7   16     1000          SSD   \n",
      "4    New      HP         15S  Intel Core i5   16      512          SSD   \n",
      "\n",
      "          GPU  Screen Touch  Final Price  \n",
      "0  Integrated    15.6    No      1009.00  \n",
      "1  Integrated    15.6    No       299.00  \n",
      "2  Integrated    15.6    No       789.00  \n",
      "3    RTX 3050    15.6    No      1199.00  \n",
      "4  Integrated    15.6    No       669.01  \n",
      "<class 'pandas.core.frame.DataFrame'>\n",
      "RangeIndex: 2160 entries, 0 to 2159\n",
      "Data columns (total 11 columns):\n",
      " #   Column        Non-Null Count  Dtype  \n",
      "---  ------        --------------  -----  \n",
      " 0   Status        2160 non-null   object \n",
      " 1   Brand         2160 non-null   object \n",
      " 2   Model         2160 non-null   object \n",
      " 3   CPU           2160 non-null   object \n",
      " 4   RAM           2160 non-null   int64  \n",
      " 5   Storage       2160 non-null   int64  \n",
      " 6   Storage type  2160 non-null   object \n",
      " 7   GPU           2160 non-null   object \n",
      " 8   Screen        2160 non-null   float64\n",
      " 9   Touch         2160 non-null   object \n",
      " 10  Final Price   2160 non-null   float64\n",
      "dtypes: float64(2), int64(2), object(7)\n",
      "memory usage: 185.8+ KB\n",
      "None\n"
     ]
    }
   ],
   "source": [
    "# Contoh membersihkan data\n",
    "df = pd.read_csv('datasets/laptops.csv')\n",
    "\n",
    "df.drop(columns=['Laptop'], inplace=True)  # Nama deskriptif yang bisa digantikan oleh spesifikasi\n",
    "\n",
    "# Tangani missing value\n",
    "# Mengganti nilai null pada kolom 'GPU' dengan 'Integrated'\n",
    "df['GPU'].fillna('Integrated', inplace=True)\n",
    "\n",
    "# Mengisi nilai null pada kolom 'Storage type'\n",
    "screen_na_index = df[df['Screen'].isnull()].index\n",
    "screens = np.array([\n",
    "    15.6, # Acer Extensa 15 EX215-54\n",
    "    15.6, # HP ENVY x360 2-in-1 Laptop 15-ew0008np\n",
    "    15.6, # Lenovo IdeaPad Gaming 3 15ACH6\n",
    "    15.6 # Lenovo ThinkPad P15 Gen 2\n",
    "])\n",
    "df.loc[screen_na_index, 'Screen'] = screens\n",
    "\n",
    "# Mengganti nilai null pada kolom 'Storage type'\n",
    "storage_type_na_index = df[df['Storage type'].isnull()].index\n",
    "storage_types = np.array([\n",
    "    \"eMMC\", # ASUS Chromebook CX1400CNA-BV0210\n",
    "    \"SSD\",  # Portátil Alurin Flex Advance Intel Core I5-1155G7\n",
    "    \"SSD\",  # ASUS ROG Strix G16 G614JZ-N3008\n",
    "    \"eMMC\", # Prixton Flex Pro Intel Celeron N4020\n",
    "    \"SSD\",  # Apple MacBook Pro Intel Core i5\n",
    "    \"SSD\",  # Alurin AMD R5 5500U\n",
    "    \"SSD\",  # Alurin Intel Core I7 12th\n",
    "    \"SSD\",  # ASUS F515EA-BQ1625W\n",
    "    \"eMMC\", # HP Chromebook x360 11 G3 Education Edition\n",
    "    \"eMMC\", # HP Chromebook 11 G9\n",
    "    \"SSD\",  # Alurin Flex Advance Intel Core i5-1155G7\n",
    "    \"SSD\",  # PcCom Revolt 3050 Intel Core i7-13700H\n",
    "    \"SSD\",  # PcCom Revolt 3050 Intel Core i7-13700H\n",
    "    \"SSD\",  # Apple MacBook Pro Intel Core i5\n",
    "    \"SSD\",  # Microsoft Surface Pro 7 Intel Core i5\n",
    "    \"SSD\",  # Apple MacBook Air i5\n",
    "    \"SSD\",  # Apple MacBook Air i5\n",
    "    \"SSD\",  # HP 15S-EQ1148NS AMD Athlon Silver\n",
    "    \"SSD\",  # Prixton Netbook Pro Intel Celeron N4020\n",
    "    \"SSD\",  # ASUS VivoBook F515EA-BQ3013W Intel Core i5\n",
    "    \"SSD\",  # Apple MacBook Intel Core M3\n",
    "    \"SSD\",  # Apple MacBook Intel Core M3\n",
    "    \"SSD\",  # Apple MacBook Intel Core i5\n",
    "    \"HDD\",  # HP ProBook 640 G3 Intel Core i5-7200U\n",
    "    \"SSD\",  # HP Victus 16-E0006NP AMD Ryzen 7\n",
    "    \"eMMC\", # ASUS VivoBook 13 Slate OLED T3300KA\n",
    "    \"SSD\",  # Apple MacBook Pro Intel Core i5\n",
    "    \"SSD\",  # Apple MacBook Pro Touch Bar Intel Core i7\n",
    "    \"eMMC\", # ASUS Chromebook CR1 CR1100CKA\n",
    "    \"SSD\",  # HP ProBook 430 G6 Intel Core i5\n",
    "    \"SSD\",  # Lenovo V14 IIL Intel Core i5\n",
    "    \"SSD\",  # Lenovo V15 G2 ITL Intel Core i3\n",
    "    \"eMMC\", # Lenovo Yoga Chromebook C630\n",
    "    \"SSD\",  # Medion Akoya E4251 Intel Celeron\n",
    "    \"SSD\",  # Microsoft Surface Pro 7 Intel Core i7\n",
    "    \"SSD\",  # Microsoft Surface Pro 7 Intel Core i7\n",
    "    \"eMMC\", # Samsung Chromebook 2 Intel Celeron\n",
    "    \"SSD\",  # Thomson NEO Z3 Qualcomm Snapdragon\n",
    "    \"SSD\",  # Apple MacBook Air i5\n",
    "    \"SSD\",  # Apple MacBook Intel Core M3\n",
    "    \"HDD\",  # HP OMEN 15-DC0005NS Intel Core i7\n",
    "    \"eMMC\"  # Medion Akoya E4251 Intel Celeron\n",
    "])\n",
    "df['Storage type'].fillna('Unknown', inplace=True)\n",
    "df.loc[storage_type_na_index, 'Storage type'] = storage_types\n",
    "\n",
    "df.dropna(inplace=True)  # Jika ada sisa null, drop saja\n",
    "\n",
    "print(df.head())\n",
    "print(df.info())"
   ]
  },
  {
   "cell_type": "code",
   "execution_count": 10,
   "id": "83539936",
   "metadata": {},
   "outputs": [
    {
     "data": {
      "application/vnd.microsoft.datawrangler.viewer.v0+json": {
       "columns": [
        {
         "name": "index",
         "rawType": "int64",
         "type": "integer"
        },
        {
         "name": "Status",
         "rawType": "object",
         "type": "string"
        },
        {
         "name": "Brand",
         "rawType": "object",
         "type": "string"
        },
        {
         "name": "Model",
         "rawType": "object",
         "type": "string"
        },
        {
         "name": "CPU",
         "rawType": "object",
         "type": "string"
        },
        {
         "name": "RAM",
         "rawType": "int64",
         "type": "integer"
        },
        {
         "name": "Storage",
         "rawType": "int64",
         "type": "integer"
        },
        {
         "name": "Storage type",
         "rawType": "object",
         "type": "string"
        },
        {
         "name": "GPU",
         "rawType": "object",
         "type": "string"
        },
        {
         "name": "Screen",
         "rawType": "float64",
         "type": "float"
        },
        {
         "name": "Touch",
         "rawType": "int64",
         "type": "integer"
        },
        {
         "name": "Final Price",
         "rawType": "float64",
         "type": "float"
        }
       ],
       "ref": "8403e635-c029-4183-8974-6295d361663e",
       "rows": [
        [
         "0",
         "New",
         "Asus",
         "ExpertBook",
         "Intel Core i5",
         "8",
         "512",
         "SSD",
         "Integrated",
         "15.6",
         "0",
         "16648500.0"
        ],
        [
         "1",
         "New",
         "Alurin",
         "Go",
         "Intel Celeron",
         "8",
         "256",
         "SSD",
         "Integrated",
         "15.6",
         "0",
         "4933500.0"
        ],
        [
         "2",
         "New",
         "Asus",
         "ExpertBook",
         "Intel Core i3",
         "8",
         "256",
         "SSD",
         "Integrated",
         "15.6",
         "0",
         "13018500.0"
        ],
        [
         "3",
         "New",
         "MSI",
         "Katana",
         "Intel Core i7",
         "16",
         "1000",
         "SSD",
         "RTX 3050",
         "15.6",
         "0",
         "19783500.0"
        ],
        [
         "4",
         "New",
         "HP",
         "15S",
         "Intel Core i5",
         "16",
         "512",
         "SSD",
         "Integrated",
         "15.6",
         "0",
         "11038665.0"
        ]
       ],
       "shape": {
        "columns": 11,
        "rows": 5
       }
      },
      "text/html": [
       "<div>\n",
       "<style scoped>\n",
       "    .dataframe tbody tr th:only-of-type {\n",
       "        vertical-align: middle;\n",
       "    }\n",
       "\n",
       "    .dataframe tbody tr th {\n",
       "        vertical-align: top;\n",
       "    }\n",
       "\n",
       "    .dataframe thead th {\n",
       "        text-align: right;\n",
       "    }\n",
       "</style>\n",
       "<table border=\"1\" class=\"dataframe\">\n",
       "  <thead>\n",
       "    <tr style=\"text-align: right;\">\n",
       "      <th></th>\n",
       "      <th>Status</th>\n",
       "      <th>Brand</th>\n",
       "      <th>Model</th>\n",
       "      <th>CPU</th>\n",
       "      <th>RAM</th>\n",
       "      <th>Storage</th>\n",
       "      <th>Storage type</th>\n",
       "      <th>GPU</th>\n",
       "      <th>Screen</th>\n",
       "      <th>Touch</th>\n",
       "      <th>Final Price</th>\n",
       "    </tr>\n",
       "  </thead>\n",
       "  <tbody>\n",
       "    <tr>\n",
       "      <th>0</th>\n",
       "      <td>New</td>\n",
       "      <td>Asus</td>\n",
       "      <td>ExpertBook</td>\n",
       "      <td>Intel Core i5</td>\n",
       "      <td>8</td>\n",
       "      <td>512</td>\n",
       "      <td>SSD</td>\n",
       "      <td>Integrated</td>\n",
       "      <td>15.6</td>\n",
       "      <td>0</td>\n",
       "      <td>16648500.0</td>\n",
       "    </tr>\n",
       "    <tr>\n",
       "      <th>1</th>\n",
       "      <td>New</td>\n",
       "      <td>Alurin</td>\n",
       "      <td>Go</td>\n",
       "      <td>Intel Celeron</td>\n",
       "      <td>8</td>\n",
       "      <td>256</td>\n",
       "      <td>SSD</td>\n",
       "      <td>Integrated</td>\n",
       "      <td>15.6</td>\n",
       "      <td>0</td>\n",
       "      <td>4933500.0</td>\n",
       "    </tr>\n",
       "    <tr>\n",
       "      <th>2</th>\n",
       "      <td>New</td>\n",
       "      <td>Asus</td>\n",
       "      <td>ExpertBook</td>\n",
       "      <td>Intel Core i3</td>\n",
       "      <td>8</td>\n",
       "      <td>256</td>\n",
       "      <td>SSD</td>\n",
       "      <td>Integrated</td>\n",
       "      <td>15.6</td>\n",
       "      <td>0</td>\n",
       "      <td>13018500.0</td>\n",
       "    </tr>\n",
       "    <tr>\n",
       "      <th>3</th>\n",
       "      <td>New</td>\n",
       "      <td>MSI</td>\n",
       "      <td>Katana</td>\n",
       "      <td>Intel Core i7</td>\n",
       "      <td>16</td>\n",
       "      <td>1000</td>\n",
       "      <td>SSD</td>\n",
       "      <td>RTX 3050</td>\n",
       "      <td>15.6</td>\n",
       "      <td>0</td>\n",
       "      <td>19783500.0</td>\n",
       "    </tr>\n",
       "    <tr>\n",
       "      <th>4</th>\n",
       "      <td>New</td>\n",
       "      <td>HP</td>\n",
       "      <td>15S</td>\n",
       "      <td>Intel Core i5</td>\n",
       "      <td>16</td>\n",
       "      <td>512</td>\n",
       "      <td>SSD</td>\n",
       "      <td>Integrated</td>\n",
       "      <td>15.6</td>\n",
       "      <td>0</td>\n",
       "      <td>11038665.0</td>\n",
       "    </tr>\n",
       "  </tbody>\n",
       "</table>\n",
       "</div>"
      ],
      "text/plain": [
       "  Status   Brand       Model            CPU  RAM  Storage Storage type  \\\n",
       "0    New    Asus  ExpertBook  Intel Core i5    8      512          SSD   \n",
       "1    New  Alurin          Go  Intel Celeron    8      256          SSD   \n",
       "2    New    Asus  ExpertBook  Intel Core i3    8      256          SSD   \n",
       "3    New     MSI      Katana  Intel Core i7   16     1000          SSD   \n",
       "4    New      HP         15S  Intel Core i5   16      512          SSD   \n",
       "\n",
       "          GPU  Screen  Touch  Final Price  \n",
       "0  Integrated    15.6      0   16648500.0  \n",
       "1  Integrated    15.6      0    4933500.0  \n",
       "2  Integrated    15.6      0   13018500.0  \n",
       "3    RTX 3050    15.6      0   19783500.0  \n",
       "4  Integrated    15.6      0   11038665.0  "
      ]
     },
     "execution_count": 10,
     "metadata": {},
     "output_type": "execute_result"
    }
   ],
   "source": [
    "# Konversi harga ke jutaan jika perlu\n",
    "df['Final Price'] = df['Final Price'] * 16500  # USD to IDR\n",
    "\n",
    "# Pastikan kolom RAM dan Storage bertipe numerik\n",
    "df['RAM'] = df['RAM'].astype(int)\n",
    "df['Storage'] = df['Storage'].astype(int)\n",
    "\n",
    "# Normalisasi teks\n",
    "df['Touch'] = df['Touch'].str.strip().str.lower()\n",
    "df['Touch'] = df['Touch'].replace({'yes': 1, 'no': 0})\n",
    "\n",
    "# Preview\n",
    "df.head()\n"
   ]
  },
  {
   "cell_type": "code",
   "execution_count": 11,
   "id": "2b0a3964",
   "metadata": {},
   "outputs": [],
   "source": [
    "df.to_csv('cleaned_dataset.csv', index=False)"
   ]
  },
  {
   "cell_type": "markdown",
   "id": "2283efdd",
   "metadata": {},
   "source": [
    "\n",
    "## 3. Pemahaman Kebutuhan Pengguna (NLP)\n",
    "\n",
    "### Tujuan\n",
    "Menginterpretasikan input teks dari pengguna untuk memahami kebutuhan.\n",
    "\n",
    "### Langkah\n",
    "1. Tokenisasi dan Stemming.\n",
    "2. Perhitungan TF-IDF.\n",
    "3. Pembuatan vektor kebutuhan.\n",
    "\n",
    "### Implementasi\n"
   ]
  },
  {
   "cell_type": "code",
   "execution_count": 12,
   "id": "ebf19c47",
   "metadata": {},
   "outputs": [
    {
     "data": {
      "application/vnd.microsoft.datawrangler.viewer.v0+json": {
       "columns": [
        {
         "name": "index",
         "rawType": "int64",
         "type": "integer"
        },
        {
         "name": "Teks Kebutuhan",
         "rawType": "object",
         "type": "string"
        },
        {
         "name": "Label",
         "rawType": "object",
         "type": "string"
        }
       ],
       "ref": "82c7082f-76dd-4265-ac0d-cb63adc95cff",
       "rows": [
        [
         "0",
         "Saya butuh laptop untuk edit video dan desain grafis",
         "desain"
        ],
        [
         "1",
         "Main Valorant dan GTA V tanpa lag",
         "gaming"
        ],
        [
         "2",
         "Laptop untuk bekerja, menggunakan Zoom dan Microsoft Excel",
         "kantor"
        ],
        [
         "3",
         "Laptop ringan untuk browsing dan mengetik",
         "umum"
        ],
        [
         "4",
         "Untuk main game berat seperti Cyberpunk dan Elden Ring",
         "gaming"
        ]
       ],
       "shape": {
        "columns": 2,
        "rows": 5
       }
      },
      "text/html": [
       "<div>\n",
       "<style scoped>\n",
       "    .dataframe tbody tr th:only-of-type {\n",
       "        vertical-align: middle;\n",
       "    }\n",
       "\n",
       "    .dataframe tbody tr th {\n",
       "        vertical-align: top;\n",
       "    }\n",
       "\n",
       "    .dataframe thead th {\n",
       "        text-align: right;\n",
       "    }\n",
       "</style>\n",
       "<table border=\"1\" class=\"dataframe\">\n",
       "  <thead>\n",
       "    <tr style=\"text-align: right;\">\n",
       "      <th></th>\n",
       "      <th>Teks Kebutuhan</th>\n",
       "      <th>Label</th>\n",
       "    </tr>\n",
       "  </thead>\n",
       "  <tbody>\n",
       "    <tr>\n",
       "      <th>0</th>\n",
       "      <td>Saya butuh laptop untuk edit video dan desain ...</td>\n",
       "      <td>desain</td>\n",
       "    </tr>\n",
       "    <tr>\n",
       "      <th>1</th>\n",
       "      <td>Main Valorant dan GTA V tanpa lag</td>\n",
       "      <td>gaming</td>\n",
       "    </tr>\n",
       "    <tr>\n",
       "      <th>2</th>\n",
       "      <td>Laptop untuk bekerja, menggunakan Zoom dan Mic...</td>\n",
       "      <td>kantor</td>\n",
       "    </tr>\n",
       "    <tr>\n",
       "      <th>3</th>\n",
       "      <td>Laptop ringan untuk browsing dan mengetik</td>\n",
       "      <td>umum</td>\n",
       "    </tr>\n",
       "    <tr>\n",
       "      <th>4</th>\n",
       "      <td>Untuk main game berat seperti Cyberpunk dan El...</td>\n",
       "      <td>gaming</td>\n",
       "    </tr>\n",
       "  </tbody>\n",
       "</table>\n",
       "</div>"
      ],
      "text/plain": [
       "                                      Teks Kebutuhan   Label\n",
       "0  Saya butuh laptop untuk edit video dan desain ...  desain\n",
       "1                  Main Valorant dan GTA V tanpa lag  gaming\n",
       "2  Laptop untuk bekerja, menggunakan Zoom dan Mic...  kantor\n",
       "3          Laptop ringan untuk browsing dan mengetik    umum\n",
       "4  Untuk main game berat seperti Cyberpunk dan El...  gaming"
      ]
     },
     "execution_count": 12,
     "metadata": {},
     "output_type": "execute_result"
    }
   ],
   "source": [
    "# Contoh NLP dengan TF-IDF\n",
    "# Load data simulasi preferensi pengguna\n",
    "df_pref = pd.read_csv('simulasi_preferensi_pengguna.csv')\n",
    "df_pref.head()"
   ]
  },
  {
   "cell_type": "code",
   "execution_count": 13,
   "id": "9cd8535d",
   "metadata": {},
   "outputs": [],
   "source": [
    "# Inisialisasi stemmer Bahasa Indonesia\n",
    "stemmer = StemmerFactory().create_stemmer()\n",
    "\n",
    "def preprocess(text):\n",
    "    text = text.lower()\n",
    "    text = re.sub(r'[^a-z\\s]', '', text)\n",
    "    return stemmer.stem(text)"
   ]
  },
  {
   "cell_type": "code",
   "execution_count": 14,
   "id": "d7602c45",
   "metadata": {},
   "outputs": [],
   "source": [
    "# Terapkan preprocessing ke kolom teks\n",
    "df_pref['preprocessed'] = df_pref['Teks Kebutuhan'].apply(preprocess)\n",
    "\n",
    "# TF-IDF Vectorization\n",
    "vectorizer = TfidfVectorizer()\n",
    "X = vectorizer.fit_transform(df_pref[\"preprocessed\"]).toarray()"
   ]
  },
  {
   "cell_type": "code",
   "execution_count": 15,
   "id": "21580bee",
   "metadata": {},
   "outputs": [],
   "source": [
    "# Encode label\n",
    "label_encoder = LabelEncoder()\n",
    "y = label_encoder.fit_transform(df_pref[\"Label\"])"
   ]
  },
  {
   "cell_type": "code",
   "execution_count": 16,
   "id": "3d638eb8",
   "metadata": {},
   "outputs": [],
   "source": [
    "# Train-test split\n",
    "X_train, X_test, y_train, y_test = train_test_split(X, y, test_size=0.2, random_state=42)"
   ]
  },
  {
   "cell_type": "code",
   "execution_count": 17,
   "id": "d39c01c6",
   "metadata": {},
   "outputs": [],
   "source": [
    "# Build model\n",
    "model = tf.keras.Sequential([\n",
    "    tf.keras.layers.Input(shape=(X_train.shape[1],)),\n",
    "    tf.keras.layers.Dense(128, activation='relu'),\n",
    "    tf.keras.layers.Dropout(0.3),\n",
    "    tf.keras.layers.Dense(4, activation='softmax')\n",
    "])\n",
    "\n",
    "model.compile(optimizer='adam',\n",
    "              loss='sparse_categorical_crossentropy',\n",
    "              metrics=['accuracy'])"
   ]
  },
  {
   "cell_type": "code",
   "execution_count": 18,
   "id": "334de417",
   "metadata": {},
   "outputs": [
    {
     "name": "stdout",
     "output_type": "stream",
     "text": [
      "Epoch 1/30\n",
      "5/5 [==============================] - 1s 47ms/step - loss: 1.3899 - accuracy: 0.2632 - val_loss: 1.4901 - val_accuracy: 0.0000e+00\n",
      "Epoch 2/30\n",
      "5/5 [==============================] - 0s 11ms/step - loss: 1.3663 - accuracy: 0.3158 - val_loss: 1.4991 - val_accuracy: 0.0000e+00\n",
      "Epoch 3/30\n",
      "5/5 [==============================] - 0s 10ms/step - loss: 1.3211 - accuracy: 0.4737 - val_loss: 1.5043 - val_accuracy: 0.0000e+00\n",
      "Epoch 4/30\n",
      "5/5 [==============================] - 0s 10ms/step - loss: 1.2879 - accuracy: 0.4737 - val_loss: 1.5129 - val_accuracy: 0.0000e+00\n",
      "Epoch 5/30\n",
      "5/5 [==============================] - 0s 9ms/step - loss: 1.2652 - accuracy: 0.4737 - val_loss: 1.5227 - val_accuracy: 0.0000e+00\n",
      "Epoch 6/30\n",
      "5/5 [==============================] - 0s 10ms/step - loss: 1.2247 - accuracy: 0.7368 - val_loss: 1.5289 - val_accuracy: 0.0000e+00\n",
      "Epoch 7/30\n",
      "5/5 [==============================] - 0s 10ms/step - loss: 1.1873 - accuracy: 0.7368 - val_loss: 1.5373 - val_accuracy: 0.0000e+00\n",
      "Epoch 8/30\n",
      "5/5 [==============================] - 0s 33ms/step - loss: 1.1682 - accuracy: 0.6842 - val_loss: 1.5433 - val_accuracy: 0.0000e+00\n",
      "Epoch 9/30\n",
      "5/5 [==============================] - 0s 17ms/step - loss: 1.1477 - accuracy: 0.8947 - val_loss: 1.5531 - val_accuracy: 0.0000e+00\n",
      "Epoch 10/30\n",
      "5/5 [==============================] - 0s 10ms/step - loss: 1.0843 - accuracy: 0.9474 - val_loss: 1.5583 - val_accuracy: 0.0000e+00\n",
      "Epoch 11/30\n",
      "5/5 [==============================] - 0s 11ms/step - loss: 1.0727 - accuracy: 0.8947 - val_loss: 1.5676 - val_accuracy: 0.0000e+00\n",
      "Epoch 12/30\n",
      "5/5 [==============================] - 0s 11ms/step - loss: 1.0395 - accuracy: 0.7895 - val_loss: 1.5747 - val_accuracy: 0.0000e+00\n",
      "Epoch 13/30\n",
      "5/5 [==============================] - 0s 9ms/step - loss: 0.9875 - accuracy: 0.8947 - val_loss: 1.5796 - val_accuracy: 0.0000e+00\n",
      "Epoch 14/30\n",
      "5/5 [==============================] - 0s 11ms/step - loss: 0.9550 - accuracy: 0.8947 - val_loss: 1.5850 - val_accuracy: 0.0000e+00\n",
      "Epoch 15/30\n",
      "5/5 [==============================] - 0s 10ms/step - loss: 0.9167 - accuracy: 0.8947 - val_loss: 1.5876 - val_accuracy: 0.2000\n",
      "Epoch 16/30\n",
      "5/5 [==============================] - 0s 10ms/step - loss: 0.8808 - accuracy: 0.9474 - val_loss: 1.5934 - val_accuracy: 0.2000\n",
      "Epoch 17/30\n",
      "5/5 [==============================] - 0s 10ms/step - loss: 0.8720 - accuracy: 0.8947 - val_loss: 1.5972 - val_accuracy: 0.2000\n",
      "Epoch 18/30\n",
      "5/5 [==============================] - 0s 10ms/step - loss: 0.8399 - accuracy: 0.9474 - val_loss: 1.6033 - val_accuracy: 0.2000\n",
      "Epoch 19/30\n",
      "5/5 [==============================] - 0s 10ms/step - loss: 0.8079 - accuracy: 0.9474 - val_loss: 1.6073 - val_accuracy: 0.2000\n",
      "Epoch 20/30\n",
      "5/5 [==============================] - 0s 9ms/step - loss: 0.7651 - accuracy: 0.9474 - val_loss: 1.6083 - val_accuracy: 0.2000\n",
      "Epoch 21/30\n",
      "5/5 [==============================] - 0s 11ms/step - loss: 0.7316 - accuracy: 0.9474 - val_loss: 1.6123 - val_accuracy: 0.2000\n",
      "Epoch 22/30\n",
      "5/5 [==============================] - 0s 10ms/step - loss: 0.6801 - accuracy: 0.9474 - val_loss: 1.6160 - val_accuracy: 0.2000\n",
      "Epoch 23/30\n",
      "5/5 [==============================] - 0s 13ms/step - loss: 0.6647 - accuracy: 0.9474 - val_loss: 1.6188 - val_accuracy: 0.2000\n",
      "Epoch 24/30\n",
      "5/5 [==============================] - 0s 11ms/step - loss: 0.6244 - accuracy: 0.9474 - val_loss: 1.6191 - val_accuracy: 0.2000\n",
      "Epoch 25/30\n",
      "5/5 [==============================] - 0s 11ms/step - loss: 0.6011 - accuracy: 0.9474 - val_loss: 1.6175 - val_accuracy: 0.4000\n",
      "Epoch 26/30\n",
      "5/5 [==============================] - 0s 12ms/step - loss: 0.5478 - accuracy: 1.0000 - val_loss: 1.6221 - val_accuracy: 0.4000\n",
      "Epoch 27/30\n",
      "5/5 [==============================] - 0s 12ms/step - loss: 0.5225 - accuracy: 0.9474 - val_loss: 1.6178 - val_accuracy: 0.4000\n",
      "Epoch 28/30\n",
      "5/5 [==============================] - 0s 12ms/step - loss: 0.4895 - accuracy: 1.0000 - val_loss: 1.6172 - val_accuracy: 0.4000\n",
      "Epoch 29/30\n",
      "5/5 [==============================] - 0s 14ms/step - loss: 0.4838 - accuracy: 1.0000 - val_loss: 1.6198 - val_accuracy: 0.4000\n",
      "Epoch 30/30\n",
      "5/5 [==============================] - 0s 12ms/step - loss: 0.4401 - accuracy: 0.9474 - val_loss: 1.6194 - val_accuracy: 0.4000\n"
     ]
    },
    {
     "data": {
      "text/plain": [
       "<keras.callbacks.History at 0x738f9ff06b20>"
      ]
     },
     "execution_count": 18,
     "metadata": {},
     "output_type": "execute_result"
    }
   ],
   "source": [
    "# Train model\n",
    "model.fit(X_train, y_train, epochs=30, batch_size=4, validation_split=0.2)"
   ]
  },
  {
   "cell_type": "code",
   "execution_count": 19,
   "id": "67eb63c5",
   "metadata": {},
   "outputs": [
    {
     "name": "stdout",
     "output_type": "stream",
     "text": [
      "1/1 [==============================] - 0s 40ms/step - loss: 1.3692 - accuracy: 0.5000\n",
      "Accuracy: 0.5\n"
     ]
    }
   ],
   "source": [
    "# Evaluate\n",
    "loss, acc = model.evaluate(X_test, y_test)\n",
    "print(\"Accuracy:\", acc)"
   ]
  },
  {
   "cell_type": "code",
   "execution_count": 20,
   "id": "916ccbae",
   "metadata": {},
   "outputs": [
    {
     "data": {
      "text/plain": [
       "['label_encoder.pkl']"
      ]
     },
     "execution_count": 20,
     "metadata": {},
     "output_type": "execute_result"
    }
   ],
   "source": [
    "# Simpan model TensorFlow\n",
    "model.save(\"lappick_model.h5\")\n",
    "\n",
    "# Simpan vectorizer dan label encoder\n",
    "joblib.dump(vectorizer, \"tfidf_vectorizer.pkl\")\n",
    "joblib.dump(label_encoder, \"label_encoder.pkl\")"
   ]
  },
  {
   "cell_type": "markdown",
   "id": "dad1c481",
   "metadata": {},
   "source": [
    "\n",
    "## 4. Sistem Rekomendasi\n",
    "\n",
    "### Tujuan\n",
    "Merekomendasikan laptop berdasarkan kesesuaian dengan input pengguna.\n",
    "\n",
    "### Langkah\n",
    "1. Menghitung kemiripan vektor (cosine similarity).\n",
    "2. Menampilkan laptop dengan skor tertinggi.\n",
    "\n",
    "### Implementasi\n"
   ]
  },
  {
   "cell_type": "code",
   "execution_count": 21,
   "id": "4c8e0289",
   "metadata": {},
   "outputs": [],
   "source": [
    "# Load semua komponen\n",
    "model = tf.keras.models.load_model(\"lappick_model.h5\")\n",
    "vectorizer = joblib.load(\"tfidf_vectorizer.pkl\")\n",
    "label_encoder = joblib.load(\"label_encoder.pkl\")\n",
    "df_laptop = pd.read_csv(\"cleaned_dataset.csv\")"
   ]
  },
  {
   "cell_type": "code",
   "execution_count": 22,
   "id": "e5519e1c",
   "metadata": {},
   "outputs": [],
   "source": [
    "# Preprocess\n",
    "stemmer = StemmerFactory().create_stemmer()\n",
    "def preprocess(text):\n",
    "    text = text.lower()\n",
    "    text = re.sub(r'[^a-z\\s]', '', text)\n",
    "    return stemmer.stem(text)"
   ]
  },
  {
   "cell_type": "code",
   "execution_count": 23,
   "id": "dd2f360d",
   "metadata": {},
   "outputs": [],
   "source": [
    "def ekstrak_budget(teks):\n",
    "    # Cari angka dan konversi dari \"juta\" ke angka (jika disebutkan)\n",
    "    match = re.search(r'(\\d+)\\s*(juta|jt)', teks.lower())\n",
    "    if match:\n",
    "        angka = int(match.group(1)) * 1_000_000\n",
    "        return angka\n",
    "    return None  # Tidak ada angka ditemukan\n"
   ]
  },
  {
   "cell_type": "code",
   "execution_count": 24,
   "id": "43e80149",
   "metadata": {},
   "outputs": [],
   "source": [
    "def rekomendasi(teks_user, top_n=5):\n",
    "    teks_clean = preprocess(teks_user)\n",
    "    vektor_input = vectorizer.transform([teks_clean]).toarray()\n",
    "    prediksi = model.predict(vektor_input)[0]\n",
    "    label_index = np.argmax(prediksi)\n",
    "    label = label_encoder.inverse_transform([label_index])[0]\n",
    "\n",
    "    # Filter label\n",
    "    df = df_laptop.copy()\n",
    "    if label == 'gaming':\n",
    "        df = df[(df['RAM'] >= 8) & df['GPU'].str.contains(\"RTX|GTX|Radeon\", na=False, case=False)]\n",
    "    elif label == 'desain':\n",
    "        df = df[(df['RAM'] >= 8) & \n",
    "                df['Storage'] >= 256 &\n",
    "                df['CPU'].str.contains(\"i5|i7|Ryzen 5|Ryzen 7\", na=False, case=False) &\n",
    "                df['GPU'].str.contains(\"RTX|GTX|Radeon\", na=False, case=False)]\n",
    "    elif label == 'kantor':\n",
    "        df = df[(df['RAM'] >= 4) & (df['Storage'] >= 256)]\n",
    "    else:\n",
    "        df = df[df['RAM'] >= 4]\n",
    "\n",
    "    # Tambahan: filter berdasarkan budget\n",
    "    budget = ekstrak_budget(teks_user)\n",
    "    if budget:\n",
    "        df = df[df['Final Price'] <= budget]\n",
    "\n",
    "    hasil = df.sort_values(by=\"Final Price\").head(top_n)\n",
    "    return label, hasil.reset_index(drop=True)\n"
   ]
  },
  {
   "cell_type": "code",
   "execution_count": 25,
   "id": "bae3e082",
   "metadata": {},
   "outputs": [
    {
     "name": "stdout",
     "output_type": "stream",
     "text": [
      "1/1 [==============================] - 0s 67ms/step\n",
      "Kategori: gaming\n",
      "Hasil Rekomendasi:\n",
      "        Status Brand     Model            CPU  RAM  Storage Storage type  \\\n",
      "0  Refurbished  Acer     Nitro  Intel Core i5    8      256          SSD   \n",
      "1  Refurbished    HP  Pavilion  Intel Core i5    8      512          SSD   \n",
      "\n",
      "        GPU  Screen  Touch  Final Price  \n",
      "0  GTX 1650    15.6      0    7880235.0  \n",
      "1  GTX 1050    16.1      0    8998770.0  \n"
     ]
    }
   ],
   "source": [
    "# input_user = \"Saya ingin laptop untuk main game FPS dan edit video ringan\"\n",
    "input_user = \"Saya ingin laptop untuk main game Valorant 1000 FPS dengan budget 10 juta\"\n",
    "# input_user = \"Saya ingin laptop untuk main game FPS dan edit video ringan\"\n",
    "label, hasil_rekomendasi = rekomendasi(input_user)\n",
    "\n",
    "print(\"Kategori:\", label)\n",
    "print(\"Hasil Rekomendasi:\")\n",
    "print(hasil_rekomendasi)"
   ]
  },
  {
   "cell_type": "markdown",
   "id": "4dafcd90",
   "metadata": {},
   "source": [
    "\n",
    "## 5. Evaluasi Model\n",
    "\n",
    "### Tujuan\n",
    "Mengukur akurasi dan efektivitas model rekomendasi.\n",
    "\n",
    "### Metode\n",
    "- Precision, Recall, F1-Score\n",
    "- Cosine Similarity\n",
    "\n",
    "### Implementasi\n"
   ]
  },
  {
   "cell_type": "code",
   "execution_count": null,
   "id": "9b1b282c",
   "metadata": {},
   "outputs": [],
   "source": []
  }
 ],
 "metadata": {
  "kernelspec": {
   "display_name": "capstone-env",
   "language": "python",
   "name": "python3"
  },
  "language_info": {
   "codemirror_mode": {
    "name": "ipython",
    "version": 3
   },
   "file_extension": ".py",
   "mimetype": "text/x-python",
   "name": "python",
   "nbconvert_exporter": "python",
   "pygments_lexer": "ipython3",
   "version": "3.9.22"
  }
 },
 "nbformat": 4,
 "nbformat_minor": 5
}
