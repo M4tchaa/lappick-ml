{
 "cells": [
  {
   "cell_type": "markdown",
   "id": "89b5bf88",
   "metadata": {},
   "source": [
    "\n",
    "# LapPick: Sistem Rekomendasi Laptop Menggunakan NLP\n",
    "### Capstone Project Laskar AI\n",
    "\n",
    "**Tanggal Pembuatan:** 20 May 2025\n",
    "\n",
    "**Tim:** LAI25-SM035  \n",
    "**Anggota:**  \n",
    "- A533YBM071 – ARLIYANDI – STIKOM EL RAHMA  \n",
    "- A006YBF160 – FATHUR RAHMAN AL FARIZY – Universitas Brawijaya  \n",
    "- A245YBF227 – IRFAN FAJAR MUTTAQIN – Universitas Kristen Satya Wacana Salatiga  \n",
    "- A011XBF457 – SHOFURA TSABITAH RAHMAH – Universitas Padjadjaran  \n",
    "\n",
    "---\n",
    "\n",
    "## Deskripsi Proyek\n",
    "LapPick adalah sistem rekomendasi laptop berbasis Natural Language Processing (NLP) untuk membantu calon pembeli memilih laptop berdasarkan kebutuhan (gaming, desain grafis, perkantoran, dll.) dan anggaran.\n"
   ]
  },
  {
   "cell_type": "code",
   "execution_count": null,
   "id": "ac1effa1",
   "metadata": {},
   "outputs": [],
   "source": [
    "# Data Processing and Numerical Operations\n",
    "import pandas as pd\n",
    "import numpy as np\n",
    "\n",
    "# Natural Language Processing (NLP)\n",
    "from Sastrawi.Stemmer.StemmerFactory import StemmerFactory\n",
    "from sklearn.feature_extraction.text import TfidfVectorizer\n",
    "import nltk\n",
    "nltk.download('punkt')\n",
    "\n",
    "# Machine Learning and Model Evaluation\n",
    "from sklearn.metrics.pairwise import cosine_similarity\n",
    "from sklearn.metrics import classification_report\n",
    "from sklearn.model_selection import train_test_split\n",
    "\n",
    "# Web Scraping (Jika Diperlukan)\n",
    "import requests\n",
    "from bs4 import BeautifulSoup\n",
    "from selenium import webdriver\n",
    "\n",
    "# Visualization (Jika Diperlukan)\n",
    "import matplotlib.pyplot as plt\n",
    "import seaborn as sns\n",
    "\n",
    "# Optional: TensorFlow (Jika ingin model rekomendasi kompleks)\n",
    "import tensorflow as tf\n",
    "\n",
    "# General Settings\n",
    "import warnings\n",
    "warnings.filterwarnings('ignore')"
   ]
  },
  {
   "cell_type": "markdown",
   "id": "b466d129",
   "metadata": {},
   "source": [
    "\n",
    "## 1. Pengumpulan Data\n",
    "\n",
    "### Tujuan\n",
    "Mengumpulkan data spesifikasi laptop dari berbagai sumber (e-commerce, dataset publik).\n",
    "\n",
    "### Langkah\n",
    "1. Melakukan web scraping dari situs e-commerce.\n",
    "2. Mengambil dataset dari Kaggle (jika ada).\n",
    "\n",
    "### Implementasi\n"
   ]
  },
  {
   "cell_type": "code",
   "execution_count": null,
   "id": "fdbc9599",
   "metadata": {},
   "outputs": [],
   "source": [
    "\n",
    "# Contoh penggunaan BeautifulSoup untuk scraping data laptop dari e-commerce\n",
    "url = 'https://www.example.com/laptops'\n",
    "response = requests.get(url)\n",
    "soup = BeautifulSoup(response.text, 'html.parser')\n",
    "\n",
    "# Ambil judul laptop\n",
    "titles = [item.get_text() for item in soup.select('h2.title')]\n",
    "print(titles[:5])\n"
   ]
  },
  {
   "cell_type": "markdown",
   "id": "1bceeb68",
   "metadata": {},
   "source": [
    "\n",
    "## 2. Pembersihan dan Praproses Data\n",
    "\n",
    "### Tujuan\n",
    "Membersihkan data agar konsisten dan siap diproses oleh model.\n",
    "\n",
    "### Langkah\n",
    "1. Menghilangkan duplikasi.\n",
    "2. Mengatasi nilai kosong.\n",
    "3. Normalisasi teks (misalnya, huruf kecil).\n",
    "\n",
    "### Implementasi\n"
   ]
  },
  {
   "cell_type": "code",
   "execution_count": null,
   "id": "fb3e6314",
   "metadata": {},
   "outputs": [],
   "source": [
    "\n",
    "# Contoh membersihkan data\n",
    "\n",
    "df = pd.read_csv('laptop_data.csv')\n",
    "\n",
    "# Menghilangkan duplikat\n",
    "df = df.drop_duplicates()\n",
    "\n",
    "# Mengisi nilai kosong dengan rata-rata (contoh pada kolom harga)\n",
    "df['harga'] = df['harga'].fillna(df['harga'].mean())\n",
    "\n",
    "# Normalisasi nama produk\n",
    "df['nama'] = df['nama'].str.lower()\n",
    "print(df.head())\n"
   ]
  },
  {
   "cell_type": "markdown",
   "id": "2283efdd",
   "metadata": {},
   "source": [
    "\n",
    "## 3. Pemahaman Kebutuhan Pengguna (NLP)\n",
    "\n",
    "### Tujuan\n",
    "Menginterpretasikan input teks dari pengguna untuk memahami kebutuhan.\n",
    "\n",
    "### Langkah\n",
    "1. Tokenisasi dan Stemming.\n",
    "2. Perhitungan TF-IDF.\n",
    "3. Pembuatan vektor kebutuhan.\n",
    "\n",
    "### Implementasi\n"
   ]
  },
  {
   "cell_type": "code",
   "execution_count": null,
   "id": "ebf19c47",
   "metadata": {},
   "outputs": [],
   "source": [
    "\n",
    "# Contoh NLP dengan TF-IDF\n",
    "\n",
    "# Buat stemmer\n",
    "factory = StemmerFactory()\n",
    "stemmer = factory.create_stemmer()\n",
    "\n",
    "# Tokenisasi dan stemming\n",
    "texts = ['Laptop gaming terbaik', 'Laptop desain grafis murah']\n",
    "processed_texts = [stemmer.stem(text) for text in texts]\n",
    "\n",
    "# TF-IDF Vectorizer\n",
    "vectorizer = TfidfVectorizer()\n",
    "tfidf_matrix = vectorizer.fit_transform(processed_texts)\n",
    "\n",
    "print('TF-IDF Matrix:')\n",
    "print(tfidf_matrix.toarray())\n"
   ]
  },
  {
   "cell_type": "markdown",
   "id": "dad1c481",
   "metadata": {},
   "source": [
    "\n",
    "## 4. Sistem Rekomendasi\n",
    "\n",
    "### Tujuan\n",
    "Merekomendasikan laptop berdasarkan kesesuaian dengan input pengguna.\n",
    "\n",
    "### Langkah\n",
    "1. Menghitung kemiripan vektor (cosine similarity).\n",
    "2. Menampilkan laptop dengan skor tertinggi.\n",
    "\n",
    "### Implementasi\n"
   ]
  },
  {
   "cell_type": "code",
   "execution_count": null,
   "id": "4c8e0289",
   "metadata": {},
   "outputs": [],
   "source": [
    "\n",
    "# Contoh menghitung kemiripan\n",
    "similarity = cosine_similarity(tfidf_matrix)\n",
    "print('Cosine Similarity:')\n",
    "print(similarity)\n"
   ]
  },
  {
   "cell_type": "markdown",
   "id": "4dafcd90",
   "metadata": {},
   "source": [
    "\n",
    "## 5. Evaluasi Model\n",
    "\n",
    "### Tujuan\n",
    "Mengukur akurasi dan efektivitas model rekomendasi.\n",
    "\n",
    "### Metode\n",
    "- Precision, Recall, F1-Score\n",
    "- Cosine Similarity\n",
    "\n",
    "### Implementasi\n"
   ]
  },
  {
   "cell_type": "code",
   "execution_count": null,
   "id": "020c8f5e",
   "metadata": {},
   "outputs": [],
   "source": [
    "\n",
    "# Contoh evaluasi model\n",
    "true_labels = [1, 0]\n",
    "predictions = [1, 1]\n",
    "print(classification_report(true_labels, predictions))\n"
   ]
  }
 ],
 "metadata": {
  "language_info": {
   "name": "python"
  }
 },
 "nbformat": 4,
 "nbformat_minor": 5
}
